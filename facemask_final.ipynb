{
  "nbformat": 4,
  "nbformat_minor": 0,
  "metadata": {
    "colab": {
      "name": "facemask_rev02.ipynb",
      "provenance": [],
      "collapsed_sections": []
    },
    "kernelspec": {
      "name": "python3",
      "display_name": "Python 3"
    },
    "language_info": {
      "name": "python"
    },
    "accelerator": "GPU"
  },
  "cells": [
    {
      "cell_type": "markdown",
      "metadata": {
        "id": "3cCGO08s3o5k"
      },
      "source": [
        "#**BUSINESS APPLICATIONS OF ARTIFICIAL INTELLIGENCE**\n",
        "\n",
        "**WORK PROJECT**\n",
        "\n",
        "**GROUP USE A MASK!**\n",
        "\n",
        "Members: Daniel Kim, Hikma Awol, Eduardo Savioli\n",
        "\n",
        "Proposal: Build a classifier to recognize faces wearing masks based on a dataset of 853 png-format images.\n"
      ]
    },
    {
      "cell_type": "markdown",
      "metadata": {
        "id": "1n1bYci8ZNvI"
      },
      "source": [
        "**Instructions**\n",
        "\n",
        "Brief instructions for using this notebook on your own Colaboratory environment:\n",
        "\n",
        "1) go to https://www.kaggle.com/andrewmvd/face-mask-detection and download the data.\n",
        "\n",
        "2) upload the unzipped data to a source directory in Colaboratory.\n",
        "\n",
        "3) Create a target directory in Google drive to receive the training and the test files. \n",
        "\n",
        "4) Adjust source and target directories of the figures and xml files accordingly in the code.\n",
        "\n",
        "5) Comment in code that creates new directories if this notebook is run for the first time. Then, comment them out.\n",
        "\n",
        "6) Run the notebook"
      ]
    },
    {
      "cell_type": "code",
      "metadata": {
        "colab": {
          "base_uri": "https://localhost:8080/",
          "height": 35
        },
        "id": "Kye2_FnVokRR",
        "outputId": "3ccc8a5c-5212-4813-82cb-cbb9abe8eeb4"
      },
      "source": [
        "import tensorflow as tf\n",
        "tf.test.gpu_device_name()"
      ],
      "execution_count": null,
      "outputs": [
        {
          "output_type": "execute_result",
          "data": {
            "application/vnd.google.colaboratory.intrinsic+json": {
              "type": "string"
            },
            "text/plain": [
              "'/device:GPU:0'"
            ]
          },
          "metadata": {
            "tags": []
          },
          "execution_count": 1
        }
      ]
    },
    {
      "cell_type": "code",
      "metadata": {
        "id": "0pnllFoPRgVj"
      },
      "source": [
        "import os\n",
        "import shutil\n",
        "import pandas as pd\n",
        "import matplotlib.pyplot as plt\n",
        "import numpy as np\n",
        "import xml.etree.ElementTree as ET\n",
        "from sklearn.metrics import classification_report, confusion_matrix\n",
        "# Import Keras libraries\n",
        "import keras\n",
        "from keras import utils\n",
        "from keras import models, layers\n",
        "from keras.models import Sequential\n",
        "from keras.layers import Dense\n",
        "from keras.layers import Conv2D\n",
        "from keras.layers import MaxPooling2D\n",
        "from keras.layers import Flatten\n",
        "from keras.preprocessing.image import ImageDataGenerator\n",
        "from keras.models import load_model\n",
        "from keras.applications.vgg16 import VGG16\n",
        "from keras.layers import Dropout"
      ],
      "execution_count": null,
      "outputs": []
    },
    {
      "cell_type": "code",
      "metadata": {
        "colab": {
          "base_uri": "https://localhost:8080/"
        },
        "id": "Tf_1QWOKR0By",
        "outputId": "fe56666b-3724-4c03-fc97-ebf0d1193c1c"
      },
      "source": [
        "from google.colab import drive\n",
        "drive.mount('/content/drive')"
      ],
      "execution_count": null,
      "outputs": [
        {
          "output_type": "stream",
          "text": [
            "Mounted at /content/drive\n"
          ],
          "name": "stdout"
        }
      ]
    },
    {
      "cell_type": "code",
      "metadata": {
        "id": "wzeMJBKhakIJ"
      },
      "source": [
        "dir1 = '/content/drive/MyDrive/BusAppData/Facemaskdata/annotations/'\n",
        "dir2 = '/content/drive/MyDrive/BusAppData/Facemaskdata/images/'\n",
        "filelist1 =[]\n",
        "for filename1 in os.listdir(dir1):\n",
        "  filelist1.append(dir1+filename1)"
      ],
      "execution_count": null,
      "outputs": []
    },
    {
      "cell_type": "markdown",
      "metadata": {
        "id": "B5UEve8QuJ82"
      },
      "source": [
        "Some information checks on the xml files. Also, a dataframe is generated where every image is syncronized with the correct label."
      ]
    },
    {
      "cell_type": "code",
      "metadata": {
        "id": "DHLexMD3QIhj"
      },
      "source": [
        "imageinfo=[]\n",
        "for xmlfile in filelist1:\n",
        "  mask = 0\n",
        "  nomask = 0\n",
        "  maskincorrect =0\n",
        "  tree = ET.parse(xmlfile)\n",
        "  root = tree.getroot()\n",
        "  fileindex = root.find('filename').text\n",
        "  fileindexnumber = int(fileindex[12:-4])\n",
        "  imagefilename = fileindex[:-3]+ 'png'\n",
        "  for imagesize in root.findall('size'):\n",
        "    width = imagesize.find('width').text\n",
        "    height = imagesize.find('height').text\n",
        "    pixels = int(width)*int(height)\n",
        "  for people in root.findall('object'):\n",
        "    status = people.find('name').text\n",
        "    if status == 'without_mask':\n",
        "      nomask = nomask+1\n",
        "    elif status == 'with_mask':\n",
        "      mask = mask+1\n",
        "    elif status == 'mask_weared_incorrect':\n",
        "      maskincorrect = maskincorrect+1      \n",
        "  imageinfo.append([fileindexnumber, int(width), int(height), \n",
        "                    pixels, mask, nomask, maskincorrect, \n",
        "                    mask+nomask+maskincorrect, imagefilename])\n",
        "dfaux = pd.DataFrame(imageinfo, columns = ['fileindex', 'width', 'height', \n",
        "                                          'pixels', 'mask', 'nomask', \n",
        "                                          'maskincorrect', 'numberofpeople', \n",
        "                                           'imagefilename'])\n",
        "dfimageinfo = dfaux.sort_values(by=['fileindex'])\n",
        "dfimageinfo.index = range(len(dfimageinfo)) # dataframe indexes now coincide with filename indexes"
      ],
      "execution_count": null,
      "outputs": []
    },
    {
      "cell_type": "code",
      "metadata": {
        "id": "zUNpbdNkNzIM",
        "colab": {
          "base_uri": "https://localhost:8080/"
        },
        "outputId": "9245558c-6b16-43c9-9fb1-54d842396b81"
      },
      "source": [
        "print(dfimageinfo)"
      ],
      "execution_count": null,
      "outputs": [
        {
          "output_type": "stream",
          "text": [
            "     fileindex  width  ...  numberofpeople        imagefilename\n",
            "0            0    512  ...               3    maksssksksss0.png\n",
            "1            1    400  ...               9    maksssksksss1.png\n",
            "2            2    400  ...               4    maksssksksss2.png\n",
            "3            3    400  ...               9    maksssksksss3.png\n",
            "4            4    301  ...               1    maksssksksss4.png\n",
            "..         ...    ...  ...             ...                  ...\n",
            "848        848    400  ...               4  maksssksksss848.png\n",
            "849        849    400  ...               4  maksssksksss849.png\n",
            "850        850    400  ...               3  maksssksksss850.png\n",
            "851        851    301  ...               1  maksssksksss851.png\n",
            "852        852    267  ...               2  maksssksksss852.png\n",
            "\n",
            "[853 rows x 9 columns]\n"
          ],
          "name": "stdout"
        }
      ]
    },
    {
      "cell_type": "code",
      "metadata": {
        "colab": {
          "base_uri": "https://localhost:8080/",
          "height": 204
        },
        "id": "5CDhcMOvXtEw",
        "outputId": "0d05ee67-cc16-41eb-a3a3-9a7b4f29a764"
      },
      "source": [
        "dfimageinfo.head()"
      ],
      "execution_count": null,
      "outputs": [
        {
          "output_type": "execute_result",
          "data": {
            "text/html": [
              "<div>\n",
              "<style scoped>\n",
              "    .dataframe tbody tr th:only-of-type {\n",
              "        vertical-align: middle;\n",
              "    }\n",
              "\n",
              "    .dataframe tbody tr th {\n",
              "        vertical-align: top;\n",
              "    }\n",
              "\n",
              "    .dataframe thead th {\n",
              "        text-align: right;\n",
              "    }\n",
              "</style>\n",
              "<table border=\"1\" class=\"dataframe\">\n",
              "  <thead>\n",
              "    <tr style=\"text-align: right;\">\n",
              "      <th></th>\n",
              "      <th>fileindex</th>\n",
              "      <th>width</th>\n",
              "      <th>height</th>\n",
              "      <th>pixels</th>\n",
              "      <th>mask</th>\n",
              "      <th>nomask</th>\n",
              "      <th>maskincorrect</th>\n",
              "      <th>numberofpeople</th>\n",
              "      <th>imagefilename</th>\n",
              "    </tr>\n",
              "  </thead>\n",
              "  <tbody>\n",
              "    <tr>\n",
              "      <th>0</th>\n",
              "      <td>0</td>\n",
              "      <td>512</td>\n",
              "      <td>366</td>\n",
              "      <td>187392</td>\n",
              "      <td>1</td>\n",
              "      <td>2</td>\n",
              "      <td>0</td>\n",
              "      <td>3</td>\n",
              "      <td>maksssksksss0.png</td>\n",
              "    </tr>\n",
              "    <tr>\n",
              "      <th>1</th>\n",
              "      <td>1</td>\n",
              "      <td>400</td>\n",
              "      <td>156</td>\n",
              "      <td>62400</td>\n",
              "      <td>8</td>\n",
              "      <td>1</td>\n",
              "      <td>0</td>\n",
              "      <td>9</td>\n",
              "      <td>maksssksksss1.png</td>\n",
              "    </tr>\n",
              "    <tr>\n",
              "      <th>2</th>\n",
              "      <td>2</td>\n",
              "      <td>400</td>\n",
              "      <td>290</td>\n",
              "      <td>116000</td>\n",
              "      <td>3</td>\n",
              "      <td>0</td>\n",
              "      <td>1</td>\n",
              "      <td>4</td>\n",
              "      <td>maksssksksss2.png</td>\n",
              "    </tr>\n",
              "    <tr>\n",
              "      <th>3</th>\n",
              "      <td>3</td>\n",
              "      <td>400</td>\n",
              "      <td>271</td>\n",
              "      <td>108400</td>\n",
              "      <td>9</td>\n",
              "      <td>0</td>\n",
              "      <td>0</td>\n",
              "      <td>9</td>\n",
              "      <td>maksssksksss3.png</td>\n",
              "    </tr>\n",
              "    <tr>\n",
              "      <th>4</th>\n",
              "      <td>4</td>\n",
              "      <td>301</td>\n",
              "      <td>400</td>\n",
              "      <td>120400</td>\n",
              "      <td>1</td>\n",
              "      <td>0</td>\n",
              "      <td>0</td>\n",
              "      <td>1</td>\n",
              "      <td>maksssksksss4.png</td>\n",
              "    </tr>\n",
              "  </tbody>\n",
              "</table>\n",
              "</div>"
            ],
            "text/plain": [
              "   fileindex  width  height  ...  maskincorrect  numberofpeople      imagefilename\n",
              "0          0    512     366  ...              0               3  maksssksksss0.png\n",
              "1          1    400     156  ...              0               9  maksssksksss1.png\n",
              "2          2    400     290  ...              1               4  maksssksksss2.png\n",
              "3          3    400     271  ...              0               9  maksssksksss3.png\n",
              "4          4    301     400  ...              0               1  maksssksksss4.png\n",
              "\n",
              "[5 rows x 9 columns]"
            ]
          },
          "metadata": {
            "tags": []
          },
          "execution_count": 10
        }
      ]
    },
    {
      "cell_type": "markdown",
      "metadata": {
        "id": "rFlNqRYJhbJG"
      },
      "source": [
        "The images have to be automatically copied to directories labeled as the class to which the image belong.\n",
        "\n",
        "There should be 7 different classes, labeled as the following:\n",
        "\n",
        "Class 1 = mask incorrect instances\n",
        "\n",
        "Class 2 = no mask\n",
        "\n",
        "Class 3 = mask incorrect + no mask\n",
        "\n",
        "Class 4 = mask\n",
        "\n",
        "Class 5 = mask + mask incorrect\n",
        "\n",
        "Class 6 = mask + no mask\n",
        "\n",
        "Class 7 = mask + no mask + mask incorrect\n",
        "\n",
        "\n",
        "The number of individuals of the same instance on the same image will not change the label to which the image belongs. For example, two people wearing masks will belong to class #4.\n",
        "\n",
        "The dataframe dfimageinfo will be appended to a new column indicating a class each image belongs."
      ]
    },
    {
      "cell_type": "code",
      "metadata": {
        "id": "YmUFvTglF_y6"
      },
      "source": [
        "# Label text definition\n",
        "labeltext = ['mask incorrect', 'no mask', 'mask incorrect + no mask', \n",
        "             'mask', 'mask + mask incorrect', 'mask + no mask', \n",
        "             'mask + no mask + mask incorrect']"
      ],
      "execution_count": null,
      "outputs": []
    },
    {
      "cell_type": "markdown",
      "metadata": {
        "id": "eVEzzBMti2zE"
      },
      "source": [
        "Function Definitions:\n",
        "\n",
        "Specific functions for this application will be defined below."
      ]
    },
    {
      "cell_type": "code",
      "metadata": {
        "id": "GS33dqacbzS-"
      },
      "source": [
        "# Functions to be used throughout the application\n",
        "# Create an extra column with the label of each image\n",
        "def classifyimage(dataframe):\n",
        "  output=dataframe\n",
        "  output['class'] = output.apply(lambda row: \\\n",
        "                                 generatelabel(row['mask'], \\\n",
        "                                               row['nomask'], \\\n",
        "                                               row['maskincorrect']), axis=1)\n",
        "  return output\n",
        "\n",
        "# Assign each image to its corresponding label.\n",
        "def generatelabel(columnmask, columnnomask, columnincorrectmask):\n",
        "  mask = False\n",
        "  nomask = False\n",
        "  incorrect = False\n",
        "  if columnmask > 0:\n",
        "    mask=True\n",
        "  if columnnomask > 0:\n",
        "    nomask = True\n",
        "  if columnincorrectmask > 0:\n",
        "    incorrect = True\n",
        "  if mask==False and nomask==False and incorrect==True:\n",
        "    output=1\n",
        "  elif mask==False and nomask==True and incorrect==False:\n",
        "    output=2\n",
        "  elif mask==False and nomask==True and incorrect==True:\n",
        "    output=3\n",
        "  elif mask==True and nomask==False and incorrect==False:\n",
        "    output=4\n",
        "  elif mask==True and nomask==False and incorrect==True:\n",
        "    output=5\n",
        "  elif mask==True and nomask==True and incorrect==False:\n",
        "    output=6\n",
        "  elif mask==True and nomask==True and incorrect==True:\n",
        "    output=7\n",
        "  return output \n",
        "\n",
        "# Returns Train and Test sets in order to ensure that at least one instance\n",
        "# of each class is represented in both sets.\n",
        "def splitsets(dataframe, trainproportion):\n",
        "  idx = pd.Index(dataframe['class'], name ='label')\n",
        "  # Count the values for each class\n",
        "  c1 = 0\n",
        "  c2 = 0\n",
        "  c3 = 0\n",
        "  c4 = 0\n",
        "  c5 = 0\n",
        "  c6 = 0\n",
        "  c7 = 0\n",
        "  for i in idx:\n",
        "    if i ==1:\n",
        "      c1=c1+1\n",
        "    elif i==2:\n",
        "      c2=c2+1\n",
        "    elif i==3:\n",
        "      c3=c3+1\n",
        "    elif i==4:\n",
        "      c4=c4+1\n",
        "    elif i==5:\n",
        "      c5=c5+1\n",
        "    elif i==6:\n",
        "      c6=c6+1\n",
        "    elif i==7:\n",
        "      c7=c7+1\n",
        "  frequencies=[c1, c2, c3, c4, c5, c6, c7]\n",
        "  sampletraining = []\n",
        "  imagelabel=0\n",
        "  traindf = pd.DataFrame(columns = ['fileindex', 'label', 'filename'])\n",
        "  testdf = pd.DataFrame(columns = ['fileindex', 'label', 'filename'])\n",
        "  for j in frequencies:\n",
        "    sampletraining.append(int(j*trainproportion))\n",
        "  for trainsamples in sampletraining:\n",
        "    imagelabel=imagelabel+1 # counts each class\n",
        "    counter=0 # counts instances collected from a class\n",
        "    linecounter=-1 # counts lines of the dataframe\n",
        "    for label in dataframe['class']:\n",
        "      linecounter=linecounter+1\n",
        "      if label==imagelabel and counter<trainsamples:\n",
        "        counter=counter+1\n",
        "        traindf = traindf.append({'fileindex' : dataframe['fileindex'][linecounter],\n",
        "                                  'label' : label, \n",
        "                                  'filename' : dataframe['imagefilename'][linecounter]}, \n",
        "                                 ignore_index = True)\n",
        "      elif label==imagelabel and counter >= trainsamples:\n",
        "        testdf = testdf.append({'fileindex' : dataframe['fileindex'][linecounter],\n",
        "                                  'label' : label, \n",
        "                                  'filename' : dataframe['imagefilename'][linecounter]}, \n",
        "                                 ignore_index = True)\n",
        "  return traindf, testdf\n",
        "\n",
        "# Create labeled subdirectories under the training and test directories\n",
        "def createlabeldirectories(inputdir):\n",
        "  index=1\n",
        "  labeldirectories=[]\n",
        "  for i in range(1,8):\n",
        "    labeldir = os.path.join(inputdir, 'label'+str(i))\n",
        "    labeldirectories.append(labeldir)\n",
        "    os.mkdir(labeldir) # Create directories\n",
        "  return labeldirectories\n",
        "\n",
        "# Copy all image files to their corresponding training and test directories\n",
        "def copyimage2labeldirectory(sourcedir, destdir, imagelabel, dataframe):\n",
        "    linecounter=-1 # counts lines of the dataframe\n",
        "    for label in dataframe['label']:\n",
        "      linecounter=linecounter+1\n",
        "      if label==imagelabel:\n",
        "        filename= dataframe['filename'][linecounter]\n",
        "        originfile = os.path.join(sourcedir, filename)\n",
        "        destinationdiraux = os.path.join(destdir, 'label'+str(label))\n",
        "        destinationfile = os.path.join(destinationdiraux, filename)\n",
        "        print('copying', originfile, 'to', destinationfile)\n",
        "        shutil.copyfile(originfile, destinationfile)\n",
        "\n",
        "# Return the predicted class, after reading the vector of probabilities \n",
        "# (softmax) at the output.\n",
        "def predictedclass(softmaxprediction):\n",
        "  j=0\n",
        "  predlist=[]\n",
        "  for vector in softmaxprediction:\n",
        "    ind = np.argmax(vector)\n",
        "    predlist.append(ind)\n",
        "  output= np.array(predlist)\n",
        "  return output\n",
        "\n",
        "# Returns the accuracy (in percentage) of a confusion matrix\n",
        "def accuracycalc(confusionmatrix):\n",
        "  total = sum(sum(confusionmatrix))\n",
        "  correct = sum(confusionmatrix.diagonal())\n",
        "  output = 100*correct/total\n",
        "  print(\"accuracy is \", \"{:.2f}\".format(output), \"%.\")\n",
        "  return output\n",
        "\n",
        "# Returns the match rate (in percentage) for each class taken \n",
        "# from a confusion matrix\n",
        "def labelmatchrate(confusionmatrix, labels):\n",
        "  nrows=confusionmatrix.shape[0]\n",
        "  matchrate=[]\n",
        "  for i in range(0,nrows):\n",
        "    nelements = np.sum(confusionmatrix[i])\n",
        "    correct = confusionmatrix[i][i]\n",
        "    match = 100*correct/nelements\n",
        "    matchrate.append(match)\n",
        "    print(\"match for label\", i+1, \"(\", labels[i],\") is \", \"{:.2f}\".format(match), \"%.\")\n",
        "  output = matchrate\n",
        "  return output  "
      ],
      "execution_count": null,
      "outputs": []
    },
    {
      "cell_type": "markdown",
      "metadata": {
        "id": "p6nA_AE1fist"
      },
      "source": [
        "Based on columns 'mask', 'nomask' and 'maskincorrect', create an extra 'class' column assigning the class to which an image belong."
      ]
    },
    {
      "cell_type": "code",
      "metadata": {
        "colab": {
          "base_uri": "https://localhost:8080/",
          "height": 204
        },
        "id": "2rysMC6ZcR20",
        "outputId": "c0277566-9f01-45ac-a0d3-d8d397575440"
      },
      "source": [
        "dfimageinfo2 = classifyimage(dfimageinfo)\n",
        "dfimageinfo2.head()"
      ],
      "execution_count": null,
      "outputs": [
        {
          "output_type": "execute_result",
          "data": {
            "text/html": [
              "<div>\n",
              "<style scoped>\n",
              "    .dataframe tbody tr th:only-of-type {\n",
              "        vertical-align: middle;\n",
              "    }\n",
              "\n",
              "    .dataframe tbody tr th {\n",
              "        vertical-align: top;\n",
              "    }\n",
              "\n",
              "    .dataframe thead th {\n",
              "        text-align: right;\n",
              "    }\n",
              "</style>\n",
              "<table border=\"1\" class=\"dataframe\">\n",
              "  <thead>\n",
              "    <tr style=\"text-align: right;\">\n",
              "      <th></th>\n",
              "      <th>fileindex</th>\n",
              "      <th>width</th>\n",
              "      <th>height</th>\n",
              "      <th>pixels</th>\n",
              "      <th>mask</th>\n",
              "      <th>nomask</th>\n",
              "      <th>maskincorrect</th>\n",
              "      <th>numberofpeople</th>\n",
              "      <th>imagefilename</th>\n",
              "      <th>class</th>\n",
              "    </tr>\n",
              "  </thead>\n",
              "  <tbody>\n",
              "    <tr>\n",
              "      <th>0</th>\n",
              "      <td>0</td>\n",
              "      <td>512</td>\n",
              "      <td>366</td>\n",
              "      <td>187392</td>\n",
              "      <td>1</td>\n",
              "      <td>2</td>\n",
              "      <td>0</td>\n",
              "      <td>3</td>\n",
              "      <td>maksssksksss0.png</td>\n",
              "      <td>6</td>\n",
              "    </tr>\n",
              "    <tr>\n",
              "      <th>1</th>\n",
              "      <td>1</td>\n",
              "      <td>400</td>\n",
              "      <td>156</td>\n",
              "      <td>62400</td>\n",
              "      <td>8</td>\n",
              "      <td>1</td>\n",
              "      <td>0</td>\n",
              "      <td>9</td>\n",
              "      <td>maksssksksss1.png</td>\n",
              "      <td>6</td>\n",
              "    </tr>\n",
              "    <tr>\n",
              "      <th>2</th>\n",
              "      <td>2</td>\n",
              "      <td>400</td>\n",
              "      <td>290</td>\n",
              "      <td>116000</td>\n",
              "      <td>3</td>\n",
              "      <td>0</td>\n",
              "      <td>1</td>\n",
              "      <td>4</td>\n",
              "      <td>maksssksksss2.png</td>\n",
              "      <td>5</td>\n",
              "    </tr>\n",
              "    <tr>\n",
              "      <th>3</th>\n",
              "      <td>3</td>\n",
              "      <td>400</td>\n",
              "      <td>271</td>\n",
              "      <td>108400</td>\n",
              "      <td>9</td>\n",
              "      <td>0</td>\n",
              "      <td>0</td>\n",
              "      <td>9</td>\n",
              "      <td>maksssksksss3.png</td>\n",
              "      <td>4</td>\n",
              "    </tr>\n",
              "    <tr>\n",
              "      <th>4</th>\n",
              "      <td>4</td>\n",
              "      <td>301</td>\n",
              "      <td>400</td>\n",
              "      <td>120400</td>\n",
              "      <td>1</td>\n",
              "      <td>0</td>\n",
              "      <td>0</td>\n",
              "      <td>1</td>\n",
              "      <td>maksssksksss4.png</td>\n",
              "      <td>4</td>\n",
              "    </tr>\n",
              "  </tbody>\n",
              "</table>\n",
              "</div>"
            ],
            "text/plain": [
              "   fileindex  width  height  ...  numberofpeople      imagefilename  class\n",
              "0          0    512     366  ...               3  maksssksksss0.png      6\n",
              "1          1    400     156  ...               9  maksssksksss1.png      6\n",
              "2          2    400     290  ...               4  maksssksksss2.png      5\n",
              "3          3    400     271  ...               9  maksssksksss3.png      4\n",
              "4          4    301     400  ...               1  maksssksksss4.png      4\n",
              "\n",
              "[5 rows x 10 columns]"
            ]
          },
          "metadata": {
            "tags": []
          },
          "execution_count": 13
        }
      ]
    },
    {
      "cell_type": "markdown",
      "metadata": {
        "id": "4ZCJfffJoD7Q"
      },
      "source": [
        "Count how many images are assigned to each class, to ensure that both training and test sets will have instances of all classes."
      ]
    },
    {
      "cell_type": "code",
      "metadata": {
        "colab": {
          "base_uri": "https://localhost:8080/"
        },
        "id": "h0S17c60oB5W",
        "outputId": "bc84f293-c34f-4ffb-82c4-674e0b73f2d2"
      },
      "source": [
        "frequencies = dfimageinfo2['class'].value_counts()\n",
        "print(frequencies)"
      ],
      "execution_count": null,
      "outputs": [
        {
          "output_type": "stream",
          "text": [
            "4    516\n",
            "6    180\n",
            "2     60\n",
            "7     42\n",
            "5     30\n",
            "1     21\n",
            "3      4\n",
            "Name: class, dtype: int64\n"
          ],
          "name": "stdout"
        }
      ]
    },
    {
      "cell_type": "markdown",
      "metadata": {
        "id": "uviCCerQrmlj"
      },
      "source": [
        "Based on class instances, the training and test split proportion will have to be at most 75%-25%, otherwise class 3 might not be represented in the test set.\n",
        "\n",
        "Split into train and test sets will be done by means of a specific function that ensures the presence of at least one instance of each class in both sets."
      ]
    },
    {
      "cell_type": "code",
      "metadata": {
        "colab": {
          "base_uri": "https://localhost:8080/",
          "height": 821
        },
        "id": "sXmCnoLA_45s",
        "outputId": "85d0ec2b-6b2a-4e13-a211-37f638a666d9"
      },
      "source": [
        "train, test = splitsets(dfimageinfo2, 0.75)\n",
        "display(train)\n",
        "display(test)"
      ],
      "execution_count": null,
      "outputs": [
        {
          "output_type": "display_data",
          "data": {
            "text/html": [
              "<div>\n",
              "<style scoped>\n",
              "    .dataframe tbody tr th:only-of-type {\n",
              "        vertical-align: middle;\n",
              "    }\n",
              "\n",
              "    .dataframe tbody tr th {\n",
              "        vertical-align: top;\n",
              "    }\n",
              "\n",
              "    .dataframe thead th {\n",
              "        text-align: right;\n",
              "    }\n",
              "</style>\n",
              "<table border=\"1\" class=\"dataframe\">\n",
              "  <thead>\n",
              "    <tr style=\"text-align: right;\">\n",
              "      <th></th>\n",
              "      <th>fileindex</th>\n",
              "      <th>label</th>\n",
              "      <th>filename</th>\n",
              "    </tr>\n",
              "  </thead>\n",
              "  <tbody>\n",
              "    <tr>\n",
              "      <th>0</th>\n",
              "      <td>24</td>\n",
              "      <td>1</td>\n",
              "      <td>maksssksksss24.png</td>\n",
              "    </tr>\n",
              "    <tr>\n",
              "      <th>1</th>\n",
              "      <td>112</td>\n",
              "      <td>1</td>\n",
              "      <td>maksssksksss112.png</td>\n",
              "    </tr>\n",
              "    <tr>\n",
              "      <th>2</th>\n",
              "      <td>132</td>\n",
              "      <td>1</td>\n",
              "      <td>maksssksksss132.png</td>\n",
              "    </tr>\n",
              "    <tr>\n",
              "      <th>3</th>\n",
              "      <td>258</td>\n",
              "      <td>1</td>\n",
              "      <td>maksssksksss258.png</td>\n",
              "    </tr>\n",
              "    <tr>\n",
              "      <th>4</th>\n",
              "      <td>272</td>\n",
              "      <td>1</td>\n",
              "      <td>maksssksksss272.png</td>\n",
              "    </tr>\n",
              "    <tr>\n",
              "      <th>...</th>\n",
              "      <td>...</td>\n",
              "      <td>...</td>\n",
              "      <td>...</td>\n",
              "    </tr>\n",
              "    <tr>\n",
              "      <th>633</th>\n",
              "      <td>613</td>\n",
              "      <td>7</td>\n",
              "      <td>maksssksksss613.png</td>\n",
              "    </tr>\n",
              "    <tr>\n",
              "      <th>634</th>\n",
              "      <td>623</td>\n",
              "      <td>7</td>\n",
              "      <td>maksssksksss623.png</td>\n",
              "    </tr>\n",
              "    <tr>\n",
              "      <th>635</th>\n",
              "      <td>627</td>\n",
              "      <td>7</td>\n",
              "      <td>maksssksksss627.png</td>\n",
              "    </tr>\n",
              "    <tr>\n",
              "      <th>636</th>\n",
              "      <td>634</td>\n",
              "      <td>7</td>\n",
              "      <td>maksssksksss634.png</td>\n",
              "    </tr>\n",
              "    <tr>\n",
              "      <th>637</th>\n",
              "      <td>647</td>\n",
              "      <td>7</td>\n",
              "      <td>maksssksksss647.png</td>\n",
              "    </tr>\n",
              "  </tbody>\n",
              "</table>\n",
              "<p>638 rows × 3 columns</p>\n",
              "</div>"
            ],
            "text/plain": [
              "    fileindex label             filename\n",
              "0          24     1   maksssksksss24.png\n",
              "1         112     1  maksssksksss112.png\n",
              "2         132     1  maksssksksss132.png\n",
              "3         258     1  maksssksksss258.png\n",
              "4         272     1  maksssksksss272.png\n",
              "..        ...   ...                  ...\n",
              "633       613     7  maksssksksss613.png\n",
              "634       623     7  maksssksksss623.png\n",
              "635       627     7  maksssksksss627.png\n",
              "636       634     7  maksssksksss634.png\n",
              "637       647     7  maksssksksss647.png\n",
              "\n",
              "[638 rows x 3 columns]"
            ]
          },
          "metadata": {
            "tags": []
          }
        },
        {
          "output_type": "display_data",
          "data": {
            "text/html": [
              "<div>\n",
              "<style scoped>\n",
              "    .dataframe tbody tr th:only-of-type {\n",
              "        vertical-align: middle;\n",
              "    }\n",
              "\n",
              "    .dataframe tbody tr th {\n",
              "        vertical-align: top;\n",
              "    }\n",
              "\n",
              "    .dataframe thead th {\n",
              "        text-align: right;\n",
              "    }\n",
              "</style>\n",
              "<table border=\"1\" class=\"dataframe\">\n",
              "  <thead>\n",
              "    <tr style=\"text-align: right;\">\n",
              "      <th></th>\n",
              "      <th>fileindex</th>\n",
              "      <th>label</th>\n",
              "      <th>filename</th>\n",
              "    </tr>\n",
              "  </thead>\n",
              "  <tbody>\n",
              "    <tr>\n",
              "      <th>0</th>\n",
              "      <td>748</td>\n",
              "      <td>1</td>\n",
              "      <td>maksssksksss748.png</td>\n",
              "    </tr>\n",
              "    <tr>\n",
              "      <th>1</th>\n",
              "      <td>761</td>\n",
              "      <td>1</td>\n",
              "      <td>maksssksksss761.png</td>\n",
              "    </tr>\n",
              "    <tr>\n",
              "      <th>2</th>\n",
              "      <td>815</td>\n",
              "      <td>1</td>\n",
              "      <td>maksssksksss815.png</td>\n",
              "    </tr>\n",
              "    <tr>\n",
              "      <th>3</th>\n",
              "      <td>830</td>\n",
              "      <td>1</td>\n",
              "      <td>maksssksksss830.png</td>\n",
              "    </tr>\n",
              "    <tr>\n",
              "      <th>4</th>\n",
              "      <td>832</td>\n",
              "      <td>1</td>\n",
              "      <td>maksssksksss832.png</td>\n",
              "    </tr>\n",
              "    <tr>\n",
              "      <th>...</th>\n",
              "      <td>...</td>\n",
              "      <td>...</td>\n",
              "      <td>...</td>\n",
              "    </tr>\n",
              "    <tr>\n",
              "      <th>210</th>\n",
              "      <td>717</td>\n",
              "      <td>7</td>\n",
              "      <td>maksssksksss717.png</td>\n",
              "    </tr>\n",
              "    <tr>\n",
              "      <th>211</th>\n",
              "      <td>760</td>\n",
              "      <td>7</td>\n",
              "      <td>maksssksksss760.png</td>\n",
              "    </tr>\n",
              "    <tr>\n",
              "      <th>212</th>\n",
              "      <td>795</td>\n",
              "      <td>7</td>\n",
              "      <td>maksssksksss795.png</td>\n",
              "    </tr>\n",
              "    <tr>\n",
              "      <th>213</th>\n",
              "      <td>824</td>\n",
              "      <td>7</td>\n",
              "      <td>maksssksksss824.png</td>\n",
              "    </tr>\n",
              "    <tr>\n",
              "      <th>214</th>\n",
              "      <td>847</td>\n",
              "      <td>7</td>\n",
              "      <td>maksssksksss847.png</td>\n",
              "    </tr>\n",
              "  </tbody>\n",
              "</table>\n",
              "<p>215 rows × 3 columns</p>\n",
              "</div>"
            ],
            "text/plain": [
              "    fileindex label             filename\n",
              "0         748     1  maksssksksss748.png\n",
              "1         761     1  maksssksksss761.png\n",
              "2         815     1  maksssksksss815.png\n",
              "3         830     1  maksssksksss830.png\n",
              "4         832     1  maksssksksss832.png\n",
              "..        ...   ...                  ...\n",
              "210       717     7  maksssksksss717.png\n",
              "211       760     7  maksssksksss760.png\n",
              "212       795     7  maksssksksss795.png\n",
              "213       824     7  maksssksksss824.png\n",
              "214       847     7  maksssksksss847.png\n",
              "\n",
              "[215 rows x 3 columns]"
            ]
          },
          "metadata": {
            "tags": []
          }
        }
      ]
    },
    {
      "cell_type": "markdown",
      "metadata": {
        "id": "P2dhIceue9yg"
      },
      "source": [
        "Confirm that in both sets all classes are represented."
      ]
    },
    {
      "cell_type": "code",
      "metadata": {
        "colab": {
          "base_uri": "https://localhost:8080/"
        },
        "id": "t6w8t5BudIUw",
        "outputId": "8d1d3932-4ae7-46b2-aa52-a09a96f218a9"
      },
      "source": [
        "frequenciestrain = train['label'].value_counts()\n",
        "frequenciestest = test['label'].value_counts()\n",
        "print(frequenciestrain)\n",
        "print(frequenciestest)"
      ],
      "execution_count": null,
      "outputs": [
        {
          "output_type": "stream",
          "text": [
            "4    387\n",
            "6    135\n",
            "2     45\n",
            "7     31\n",
            "5     22\n",
            "1     15\n",
            "3      3\n",
            "Name: label, dtype: int64\n",
            "4    129\n",
            "6     45\n",
            "2     15\n",
            "7     11\n",
            "5      8\n",
            "1      6\n",
            "3      1\n",
            "Name: label, dtype: int64\n"
          ],
          "name": "stdout"
        }
      ]
    },
    {
      "cell_type": "markdown",
      "metadata": {
        "id": "ArgaZJ3PuTzV"
      },
      "source": [
        "Verify correcteness of classification labels for each image by filtering images of any class and showing the correponding image, based on its file index."
      ]
    },
    {
      "cell_type": "code",
      "metadata": {
        "colab": {
          "base_uri": "https://localhost:8080/",
          "height": 1000
        },
        "id": "loazEl-ZgQbC",
        "outputId": "a00b7162-39b7-448e-8267-5e466ee593f2"
      },
      "source": [
        "display(train[train['label']==2])"
      ],
      "execution_count": null,
      "outputs": [
        {
          "output_type": "display_data",
          "data": {
            "text/html": [
              "<div>\n",
              "<style scoped>\n",
              "    .dataframe tbody tr th:only-of-type {\n",
              "        vertical-align: middle;\n",
              "    }\n",
              "\n",
              "    .dataframe tbody tr th {\n",
              "        vertical-align: top;\n",
              "    }\n",
              "\n",
              "    .dataframe thead th {\n",
              "        text-align: right;\n",
              "    }\n",
              "</style>\n",
              "<table border=\"1\" class=\"dataframe\">\n",
              "  <thead>\n",
              "    <tr style=\"text-align: right;\">\n",
              "      <th></th>\n",
              "      <th>fileindex</th>\n",
              "      <th>label</th>\n",
              "      <th>filename</th>\n",
              "    </tr>\n",
              "  </thead>\n",
              "  <tbody>\n",
              "    <tr>\n",
              "      <th>15</th>\n",
              "      <td>14</td>\n",
              "      <td>2</td>\n",
              "      <td>maksssksksss14.png</td>\n",
              "    </tr>\n",
              "    <tr>\n",
              "      <th>16</th>\n",
              "      <td>48</td>\n",
              "      <td>2</td>\n",
              "      <td>maksssksksss48.png</td>\n",
              "    </tr>\n",
              "    <tr>\n",
              "      <th>17</th>\n",
              "      <td>51</td>\n",
              "      <td>2</td>\n",
              "      <td>maksssksksss51.png</td>\n",
              "    </tr>\n",
              "    <tr>\n",
              "      <th>18</th>\n",
              "      <td>68</td>\n",
              "      <td>2</td>\n",
              "      <td>maksssksksss68.png</td>\n",
              "    </tr>\n",
              "    <tr>\n",
              "      <th>19</th>\n",
              "      <td>72</td>\n",
              "      <td>2</td>\n",
              "      <td>maksssksksss72.png</td>\n",
              "    </tr>\n",
              "    <tr>\n",
              "      <th>20</th>\n",
              "      <td>95</td>\n",
              "      <td>2</td>\n",
              "      <td>maksssksksss95.png</td>\n",
              "    </tr>\n",
              "    <tr>\n",
              "      <th>21</th>\n",
              "      <td>121</td>\n",
              "      <td>2</td>\n",
              "      <td>maksssksksss121.png</td>\n",
              "    </tr>\n",
              "    <tr>\n",
              "      <th>22</th>\n",
              "      <td>125</td>\n",
              "      <td>2</td>\n",
              "      <td>maksssksksss125.png</td>\n",
              "    </tr>\n",
              "    <tr>\n",
              "      <th>23</th>\n",
              "      <td>128</td>\n",
              "      <td>2</td>\n",
              "      <td>maksssksksss128.png</td>\n",
              "    </tr>\n",
              "    <tr>\n",
              "      <th>24</th>\n",
              "      <td>154</td>\n",
              "      <td>2</td>\n",
              "      <td>maksssksksss154.png</td>\n",
              "    </tr>\n",
              "    <tr>\n",
              "      <th>25</th>\n",
              "      <td>161</td>\n",
              "      <td>2</td>\n",
              "      <td>maksssksksss161.png</td>\n",
              "    </tr>\n",
              "    <tr>\n",
              "      <th>26</th>\n",
              "      <td>172</td>\n",
              "      <td>2</td>\n",
              "      <td>maksssksksss172.png</td>\n",
              "    </tr>\n",
              "    <tr>\n",
              "      <th>27</th>\n",
              "      <td>217</td>\n",
              "      <td>2</td>\n",
              "      <td>maksssksksss217.png</td>\n",
              "    </tr>\n",
              "    <tr>\n",
              "      <th>28</th>\n",
              "      <td>218</td>\n",
              "      <td>2</td>\n",
              "      <td>maksssksksss218.png</td>\n",
              "    </tr>\n",
              "    <tr>\n",
              "      <th>29</th>\n",
              "      <td>236</td>\n",
              "      <td>2</td>\n",
              "      <td>maksssksksss236.png</td>\n",
              "    </tr>\n",
              "    <tr>\n",
              "      <th>30</th>\n",
              "      <td>239</td>\n",
              "      <td>2</td>\n",
              "      <td>maksssksksss239.png</td>\n",
              "    </tr>\n",
              "    <tr>\n",
              "      <th>31</th>\n",
              "      <td>248</td>\n",
              "      <td>2</td>\n",
              "      <td>maksssksksss248.png</td>\n",
              "    </tr>\n",
              "    <tr>\n",
              "      <th>32</th>\n",
              "      <td>289</td>\n",
              "      <td>2</td>\n",
              "      <td>maksssksksss289.png</td>\n",
              "    </tr>\n",
              "    <tr>\n",
              "      <th>33</th>\n",
              "      <td>299</td>\n",
              "      <td>2</td>\n",
              "      <td>maksssksksss299.png</td>\n",
              "    </tr>\n",
              "    <tr>\n",
              "      <th>34</th>\n",
              "      <td>343</td>\n",
              "      <td>2</td>\n",
              "      <td>maksssksksss343.png</td>\n",
              "    </tr>\n",
              "    <tr>\n",
              "      <th>35</th>\n",
              "      <td>348</td>\n",
              "      <td>2</td>\n",
              "      <td>maksssksksss348.png</td>\n",
              "    </tr>\n",
              "    <tr>\n",
              "      <th>36</th>\n",
              "      <td>370</td>\n",
              "      <td>2</td>\n",
              "      <td>maksssksksss370.png</td>\n",
              "    </tr>\n",
              "    <tr>\n",
              "      <th>37</th>\n",
              "      <td>375</td>\n",
              "      <td>2</td>\n",
              "      <td>maksssksksss375.png</td>\n",
              "    </tr>\n",
              "    <tr>\n",
              "      <th>38</th>\n",
              "      <td>379</td>\n",
              "      <td>2</td>\n",
              "      <td>maksssksksss379.png</td>\n",
              "    </tr>\n",
              "    <tr>\n",
              "      <th>39</th>\n",
              "      <td>402</td>\n",
              "      <td>2</td>\n",
              "      <td>maksssksksss402.png</td>\n",
              "    </tr>\n",
              "    <tr>\n",
              "      <th>40</th>\n",
              "      <td>404</td>\n",
              "      <td>2</td>\n",
              "      <td>maksssksksss404.png</td>\n",
              "    </tr>\n",
              "    <tr>\n",
              "      <th>41</th>\n",
              "      <td>420</td>\n",
              "      <td>2</td>\n",
              "      <td>maksssksksss420.png</td>\n",
              "    </tr>\n",
              "    <tr>\n",
              "      <th>42</th>\n",
              "      <td>442</td>\n",
              "      <td>2</td>\n",
              "      <td>maksssksksss442.png</td>\n",
              "    </tr>\n",
              "    <tr>\n",
              "      <th>43</th>\n",
              "      <td>443</td>\n",
              "      <td>2</td>\n",
              "      <td>maksssksksss443.png</td>\n",
              "    </tr>\n",
              "    <tr>\n",
              "      <th>44</th>\n",
              "      <td>455</td>\n",
              "      <td>2</td>\n",
              "      <td>maksssksksss455.png</td>\n",
              "    </tr>\n",
              "    <tr>\n",
              "      <th>45</th>\n",
              "      <td>482</td>\n",
              "      <td>2</td>\n",
              "      <td>maksssksksss482.png</td>\n",
              "    </tr>\n",
              "    <tr>\n",
              "      <th>46</th>\n",
              "      <td>521</td>\n",
              "      <td>2</td>\n",
              "      <td>maksssksksss521.png</td>\n",
              "    </tr>\n",
              "    <tr>\n",
              "      <th>47</th>\n",
              "      <td>522</td>\n",
              "      <td>2</td>\n",
              "      <td>maksssksksss522.png</td>\n",
              "    </tr>\n",
              "    <tr>\n",
              "      <th>48</th>\n",
              "      <td>528</td>\n",
              "      <td>2</td>\n",
              "      <td>maksssksksss528.png</td>\n",
              "    </tr>\n",
              "    <tr>\n",
              "      <th>49</th>\n",
              "      <td>530</td>\n",
              "      <td>2</td>\n",
              "      <td>maksssksksss530.png</td>\n",
              "    </tr>\n",
              "    <tr>\n",
              "      <th>50</th>\n",
              "      <td>537</td>\n",
              "      <td>2</td>\n",
              "      <td>maksssksksss537.png</td>\n",
              "    </tr>\n",
              "    <tr>\n",
              "      <th>51</th>\n",
              "      <td>540</td>\n",
              "      <td>2</td>\n",
              "      <td>maksssksksss540.png</td>\n",
              "    </tr>\n",
              "    <tr>\n",
              "      <th>52</th>\n",
              "      <td>543</td>\n",
              "      <td>2</td>\n",
              "      <td>maksssksksss543.png</td>\n",
              "    </tr>\n",
              "    <tr>\n",
              "      <th>53</th>\n",
              "      <td>544</td>\n",
              "      <td>2</td>\n",
              "      <td>maksssksksss544.png</td>\n",
              "    </tr>\n",
              "    <tr>\n",
              "      <th>54</th>\n",
              "      <td>561</td>\n",
              "      <td>2</td>\n",
              "      <td>maksssksksss561.png</td>\n",
              "    </tr>\n",
              "    <tr>\n",
              "      <th>55</th>\n",
              "      <td>565</td>\n",
              "      <td>2</td>\n",
              "      <td>maksssksksss565.png</td>\n",
              "    </tr>\n",
              "    <tr>\n",
              "      <th>56</th>\n",
              "      <td>571</td>\n",
              "      <td>2</td>\n",
              "      <td>maksssksksss571.png</td>\n",
              "    </tr>\n",
              "    <tr>\n",
              "      <th>57</th>\n",
              "      <td>609</td>\n",
              "      <td>2</td>\n",
              "      <td>maksssksksss609.png</td>\n",
              "    </tr>\n",
              "    <tr>\n",
              "      <th>58</th>\n",
              "      <td>615</td>\n",
              "      <td>2</td>\n",
              "      <td>maksssksksss615.png</td>\n",
              "    </tr>\n",
              "    <tr>\n",
              "      <th>59</th>\n",
              "      <td>618</td>\n",
              "      <td>2</td>\n",
              "      <td>maksssksksss618.png</td>\n",
              "    </tr>\n",
              "  </tbody>\n",
              "</table>\n",
              "</div>"
            ],
            "text/plain": [
              "   fileindex label             filename\n",
              "15        14     2   maksssksksss14.png\n",
              "16        48     2   maksssksksss48.png\n",
              "17        51     2   maksssksksss51.png\n",
              "18        68     2   maksssksksss68.png\n",
              "19        72     2   maksssksksss72.png\n",
              "20        95     2   maksssksksss95.png\n",
              "21       121     2  maksssksksss121.png\n",
              "22       125     2  maksssksksss125.png\n",
              "23       128     2  maksssksksss128.png\n",
              "24       154     2  maksssksksss154.png\n",
              "25       161     2  maksssksksss161.png\n",
              "26       172     2  maksssksksss172.png\n",
              "27       217     2  maksssksksss217.png\n",
              "28       218     2  maksssksksss218.png\n",
              "29       236     2  maksssksksss236.png\n",
              "30       239     2  maksssksksss239.png\n",
              "31       248     2  maksssksksss248.png\n",
              "32       289     2  maksssksksss289.png\n",
              "33       299     2  maksssksksss299.png\n",
              "34       343     2  maksssksksss343.png\n",
              "35       348     2  maksssksksss348.png\n",
              "36       370     2  maksssksksss370.png\n",
              "37       375     2  maksssksksss375.png\n",
              "38       379     2  maksssksksss379.png\n",
              "39       402     2  maksssksksss402.png\n",
              "40       404     2  maksssksksss404.png\n",
              "41       420     2  maksssksksss420.png\n",
              "42       442     2  maksssksksss442.png\n",
              "43       443     2  maksssksksss443.png\n",
              "44       455     2  maksssksksss455.png\n",
              "45       482     2  maksssksksss482.png\n",
              "46       521     2  maksssksksss521.png\n",
              "47       522     2  maksssksksss522.png\n",
              "48       528     2  maksssksksss528.png\n",
              "49       530     2  maksssksksss530.png\n",
              "50       537     2  maksssksksss537.png\n",
              "51       540     2  maksssksksss540.png\n",
              "52       543     2  maksssksksss543.png\n",
              "53       544     2  maksssksksss544.png\n",
              "54       561     2  maksssksksss561.png\n",
              "55       565     2  maksssksksss565.png\n",
              "56       571     2  maksssksksss571.png\n",
              "57       609     2  maksssksksss609.png\n",
              "58       615     2  maksssksksss615.png\n",
              "59       618     2  maksssksksss618.png"
            ]
          },
          "metadata": {
            "tags": []
          }
        }
      ]
    },
    {
      "cell_type": "code",
      "metadata": {
        "id": "Ky26EsRyuG9W",
        "colab": {
          "base_uri": "https://localhost:8080/",
          "height": 286
        },
        "outputId": "ba879272-f6e2-41bb-93a2-02b5b005c623"
      },
      "source": [
        "filexindex = 835\n",
        "imagepath = dir2 + dfimageinfo.iloc[filexindex][8]\n",
        "image1 = plt.imread(imagepath)\n",
        "plt.imshow(image1)\n",
        "abc = image1.shape\n",
        "abc"
      ],
      "execution_count": null,
      "outputs": [
        {
          "output_type": "execute_result",
          "data": {
            "text/plain": [
              "(400, 267, 4)"
            ]
          },
          "metadata": {
            "tags": []
          },
          "execution_count": 18
        },
        {
          "output_type": "display_data",
          "data": {
            "image/png": "[encoded data removed]",
            "text/plain": [
              "<Figure size 432x288 with 1 Axes>"
            ]
          },
          "metadata": {
            "tags": [],
            "needs_background": "light"
          }
        }
      ]
    },
    {
      "cell_type": "markdown",
      "metadata": {
        "id": "a6wXq31VjWHP"
      },
      "source": [
        "Preparation of the Dataset.\n",
        "\n",
        "The images will be copied to their corresponding training and test directories, each of which having 7 subdirectories, one for each label to be identified by the CNN.\n",
        "Labels for the subdirectories will be named label1 to label7."
      ]
    },
    {
      "cell_type": "code",
      "metadata": {
        "id": "FlaMbpETkHgJ"
      },
      "source": [
        "# This is the base work directory\n",
        "baseworkdir = '/content/drive/MyDrive/BusAppData/Facemaskdata/workproject/'\n",
        "traindir = os.path.join(baseworkdir, 'training')\n",
        "testdir = os.path.join(baseworkdir, 'test')\n",
        "# Create Train and Test directories (Comment out after directory is created)\n",
        "#os.mkdir(baseworkdir)\n",
        "#os.mkdir(traindir)\n",
        "#os.mkdir(testdir)\n",
        "\n",
        "# Create subdirectories label1 to label7 under Train and Test\n",
        "# (Comment out after directories are created)\n",
        "#createlabeldirectories(traindir)\n",
        "#createlabeldirectories(testdir)"
      ],
      "execution_count": null,
      "outputs": []
    },
    {
      "cell_type": "markdown",
      "metadata": {
        "id": "BvbPoMrLrB7E"
      },
      "source": [
        "Copy training and test images to their corresponding directories."
      ]
    },
    {
      "cell_type": "code",
      "metadata": {
        "id": "ci-KfOL6rAjO"
      },
      "source": [
        "# After running this cell, comment it out.\n",
        "#copyimage2labeldirectory(dir2, traindir, 1, train)\n",
        "#copyimage2labeldirectory(dir2, traindir, 2, train)\n",
        "#copyimage2labeldirectory(dir2, traindir, 3, train)\n",
        "#copyimage2labeldirectory(dir2, traindir, 4, train)\n",
        "#copyimage2labeldirectory(dir2, traindir, 5, train)\n",
        "#copyimage2labeldirectory(dir2, traindir, 6, train)\n",
        "#copyimage2labeldirectory(dir2, traindir, 7, train)"
      ],
      "execution_count": null,
      "outputs": []
    },
    {
      "cell_type": "code",
      "metadata": {
        "id": "-TGyr4EKBa3n"
      },
      "source": [
        "# After running this cell, comment it out.\n",
        "#copyimage2labeldirectory(dir2, testdir, 1, test)\n",
        "#copyimage2labeldirectory(dir2, testdir, 2, test)\n",
        "#copyimage2labeldirectory(dir2, testdir, 3, test)\n",
        "#copyimage2labeldirectory(dir2, testdir, 4, test)\n",
        "#copyimage2labeldirectory(dir2, testdir, 5, test)\n",
        "#copyimage2labeldirectory(dir2, testdir, 6, test)\n",
        "#copyimage2labeldirectory(dir2, testdir, 7, test)"
      ],
      "execution_count": null,
      "outputs": []
    },
    {
      "cell_type": "markdown",
      "metadata": {
        "id": "umYmih1LGO9j"
      },
      "source": [
        "**CONVOLUTIONAL NEURAL NETWORK DESIGN:**\n",
        "\n",
        "Network design:\n",
        "\n"
      ]
    },
    {
      "cell_type": "code",
      "metadata": {
        "id": "ziRN49nlGaEP",
        "colab": {
          "base_uri": "https://localhost:8080/"
        },
        "outputId": "f241f04e-1d6d-4675-e6b8-5299a82ca49b"
      },
      "source": [
        "#INITIALIZING THE CNN\n",
        "classifier = Sequential()\n",
        "\n",
        "# Load a pre-trained network VGG16\n",
        "model = VGG16(include_top=False, input_shape=(224,224,3))\n",
        "\n",
        "# Keep weights unchanged\n",
        "for layer in model.layers:\n",
        "  layer.trainable = False\n",
        "\n",
        "# Add VGG16 into the CNN\n",
        "classifier.add(model)\n",
        "\n",
        "# Add a Flatten Layer\n",
        "classifier.add(Flatten())\n",
        "\n",
        "# Add a Dropout Layer\n",
        "classifier.add(Dropout(0.5))\n",
        "\n",
        "# Add a full connection layer\n",
        "#classifier.add(Dense(units=128, activation='relu'))\n",
        "\n",
        "# Other options of full connection layers\n",
        "#classifier.add(Dense(units=64, activation='relu'))\n",
        "classifier.add(Dense(units=256, activation='relu'))\n",
        "#classifier.add(Dense(units=512, activation='relu'))\n",
        "#classifier.add(Dense(units=1024, activation='relu'))\n",
        "\n",
        "# Add an output layer with 7 neurons\n",
        "classifier.add(Dense(units=7, activation='softmax'))\n",
        "\n",
        "# Compile the classifier\n",
        "classifier.compile(optimizer='adam', loss='categorical_crossentropy',\n",
        "                   metrics=['accuracy'])"
      ],
      "execution_count": null,
      "outputs": [
        {
          "output_type": "stream",
          "text": [
            "Downloading data from https://storage.googleapis.com/tensorflow/keras-applications/vgg16/vgg16_weights_tf_dim_ordering_tf_kernels_notop.h5\n",
            "58892288/58889256 [==============================] - 0s 0us/step\n"
          ],
          "name": "stdout"
        }
      ]
    },
    {
      "cell_type": "code",
      "metadata": {
        "colab": {
          "base_uri": "https://localhost:8080/"
        },
        "id": "5qBwL6pKBbDF",
        "outputId": "26b38a09-f9d4-403b-ca2b-e1ebb4b8811d"
      },
      "source": [
        "classifier.summary()"
      ],
      "execution_count": null,
      "outputs": [
        {
          "output_type": "stream",
          "text": [
            "Model: \"sequential\"\n",
            "_________________________________________________________________\n",
            "Layer (type)                 Output Shape              Param #   \n",
            "=================================================================\n",
            "vgg16 (Functional)           (None, 7, 7, 512)         14714688  \n",
            "_________________________________________________________________\n",
            "flatten (Flatten)            (None, 25088)             0         \n",
            "_________________________________________________________________\n",
            "dropout (Dropout)            (None, 25088)             0         \n",
            "_________________________________________________________________\n",
            "dense (Dense)                (None, 256)               6422784   \n",
            "_________________________________________________________________\n",
            "dense_1 (Dense)              (None, 7)                 1799      \n",
            "=================================================================\n",
            "Total params: 21,139,271\n",
            "Trainable params: 6,424,583\n",
            "Non-trainable params: 14,714,688\n",
            "_________________________________________________________________\n"
          ],
          "name": "stdout"
        }
      ]
    },
    {
      "cell_type": "code",
      "metadata": {
        "colab": {
          "base_uri": "https://localhost:8080/",
          "height": 644
        },
        "id": "TX-F1t65cm5w",
        "outputId": "7e8c2964-7a10-4923-a2fa-092e2669bd7c"
      },
      "source": [
        "from keras import utils\n",
        "utils.plot_model(classifier, \n",
        "                 \"/content/drive/MyDrive/Colab Notebooks/BusApp/preworkproject/bestcnn.png\", \n",
        "                 show_shapes=True)"
      ],
      "execution_count": null,
      "outputs": [
        {
          "output_type": "execute_result",
          "data": {
            "image/png": "[encoded data removed]",
            "text/plain": [
              "<IPython.core.display.Image object>"
            ]
          },
          "metadata": {
            "tags": []
          },
          "execution_count": 24
        }
      ]
    },
    {
      "cell_type": "markdown",
      "metadata": {
        "id": "L9cnm5EiEcGR"
      },
      "source": [
        "Treating the training data using augmentation."
      ]
    },
    {
      "cell_type": "code",
      "metadata": {
        "colab": {
          "base_uri": "https://localhost:8080/"
        },
        "id": "GHFphA5xEpLf",
        "outputId": "059a506c-6354-4100-f787-992457b97da9"
      },
      "source": [
        "train_datagen = ImageDataGenerator(\n",
        "    rescale = 1./255,\n",
        "    rotation_range = 40,\n",
        "    width_shift_range = 0.2,\n",
        "    height_shift_range = 0.2,\n",
        "    shear_range= 20, #0.2\n",
        "    zoom_range=0.2,\n",
        "    horizontal_flip=True,\n",
        "    vertical_flip = True,\n",
        "    )\n",
        "\n",
        "train_generator = train_datagen.flow_from_directory(\n",
        "    traindir,\n",
        "    target_size=(224,224),\n",
        "    batch_size=10,\n",
        "    class_mode='categorical',\n",
        "    )"
      ],
      "execution_count": null,
      "outputs": [
        {
          "output_type": "stream",
          "text": [
            "Found 638 images belonging to 7 classes.\n"
          ],
          "name": "stdout"
        }
      ]
    },
    {
      "cell_type": "markdown",
      "metadata": {
        "id": "1psxAbDnHahO"
      },
      "source": [
        "Treating the test data without augmentation."
      ]
    },
    {
      "cell_type": "code",
      "metadata": {
        "colab": {
          "base_uri": "https://localhost:8080/"
        },
        "id": "JbiNqSGHHd30",
        "outputId": "17e4fc51-498c-45a1-fd47-4df38c5ace60"
      },
      "source": [
        "test_datagen = ImageDataGenerator(rescale = 1./255)\n",
        "\n",
        "test_generator = test_datagen.flow_from_directory(\n",
        "    testdir,\n",
        "    target_size=(224,224),\n",
        "    batch_size=10,\n",
        "    class_mode='categorical',\n",
        "    )"
      ],
      "execution_count": null,
      "outputs": [
        {
          "output_type": "stream",
          "text": [
            "Found 215 images belonging to 7 classes.\n"
          ],
          "name": "stdout"
        }
      ]
    },
    {
      "cell_type": "markdown",
      "metadata": {
        "id": "xh6h-z4mqPIG"
      },
      "source": [
        "Training the classifier."
      ]
    },
    {
      "cell_type": "code",
      "metadata": {
        "colab": {
          "base_uri": "https://localhost:8080/"
        },
        "id": "IHIyHEyGInFw",
        "outputId": "28662ce4-2ed4-4bcc-81f1-d71be067a1f7"
      },
      "source": [
        "steps=len(train_generator)//10\n",
        "val_steps = len(test_generator)//10\n",
        "history = classifier.fit(train_generator,\n",
        "                         steps_per_epoch = steps,\n",
        "                         epochs=200,\n",
        "                         validation_data=test_generator,\n",
        "                         validation_steps=val_steps)"
      ],
      "execution_count": null,
      "outputs": [
        {
          "output_type": "stream",
          "text": [
            "Epoch 1/200\n",
            "6/6 [==============================] - 2s 425ms/step - loss: 0.7254 - accuracy: 0.7333 - val_loss: 1.3065 - val_accuracy: 0.5000\n",
            "Epoch 2/200\n",
            "6/6 [==============================] - 2s 380ms/step - loss: 0.7344 - accuracy: 0.6667 - val_loss: 0.8543 - val_accuracy: 0.7000\n",
            "Epoch 3/200\n",
            "6/6 [==============================] - 2s 376ms/step - loss: 0.7219 - accuracy: 0.7333 - val_loss: 1.5120 - val_accuracy: 0.4000\n",
            "Epoch 4/200\n",
            "6/6 [==============================] - 2s 386ms/step - loss: 0.8383 - accuracy: 0.7000 - val_loss: 0.6085 - val_accuracy: 0.8000\n",
            "Epoch 5/200\n",
            "6/6 [==============================] - 2s 378ms/step - loss: 0.8498 - accuracy: 0.6000 - val_loss: 1.0488 - val_accuracy: 0.5000\n",
            "Epoch 6/200\n",
            "6/6 [==============================] - 2s 362ms/step - loss: 0.8043 - accuracy: 0.7000 - val_loss: 0.9807 - val_accuracy: 0.5000\n",
            "Epoch 7/200\n",
            "6/6 [==============================] - 2s 372ms/step - loss: 0.7271 - accuracy: 0.6667 - val_loss: 1.0022 - val_accuracy: 0.6000\n",
            "Epoch 8/200\n",
            "6/6 [==============================] - 2s 365ms/step - loss: 0.7021 - accuracy: 0.7241 - val_loss: 1.4032 - val_accuracy: 0.5500\n",
            "Epoch 9/200\n",
            "6/6 [==============================] - 2s 367ms/step - loss: 0.8590 - accuracy: 0.6500 - val_loss: 1.2275 - val_accuracy: 0.4500\n",
            "Epoch 10/200\n",
            "6/6 [==============================] - 2s 368ms/step - loss: 1.0045 - accuracy: 0.6333 - val_loss: 1.1737 - val_accuracy: 0.5500\n",
            "Epoch 11/200\n",
            "6/6 [==============================] - 2s 382ms/step - loss: 0.9396 - accuracy: 0.6833 - val_loss: 0.9378 - val_accuracy: 0.6500\n",
            "Epoch 12/200\n",
            "6/6 [==============================] - 2s 368ms/step - loss: 0.7985 - accuracy: 0.6207 - val_loss: 0.8301 - val_accuracy: 0.7000\n",
            "Epoch 13/200\n",
            "6/6 [==============================] - 2s 384ms/step - loss: 0.8185 - accuracy: 0.6333 - val_loss: 1.1407 - val_accuracy: 0.6500\n",
            "Epoch 14/200\n",
            "6/6 [==============================] - 2s 395ms/step - loss: 1.0675 - accuracy: 0.5667 - val_loss: 1.3330 - val_accuracy: 0.4500\n",
            "Epoch 15/200\n",
            "6/6 [==============================] - 2s 381ms/step - loss: 0.7580 - accuracy: 0.6500 - val_loss: 1.0058 - val_accuracy: 0.7000\n",
            "Epoch 16/200\n",
            "6/6 [==============================] - 2s 379ms/step - loss: 0.7444 - accuracy: 0.7167 - val_loss: 0.9300 - val_accuracy: 0.7000\n",
            "Epoch 17/200\n",
            "6/6 [==============================] - 2s 391ms/step - loss: 0.8329 - accuracy: 0.6667 - val_loss: 1.1279 - val_accuracy: 0.6000\n",
            "Epoch 18/200\n",
            "6/6 [==============================] - 2s 368ms/step - loss: 0.6692 - accuracy: 0.6167 - val_loss: 1.4361 - val_accuracy: 0.4500\n",
            "Epoch 19/200\n",
            "6/6 [==============================] - 2s 368ms/step - loss: 0.8859 - accuracy: 0.7000 - val_loss: 1.1444 - val_accuracy: 0.6000\n",
            "Epoch 20/200\n",
            "6/6 [==============================] - 2s 386ms/step - loss: 0.7553 - accuracy: 0.6333 - val_loss: 1.0678 - val_accuracy: 0.6500\n",
            "Epoch 21/200\n",
            "6/6 [==============================] - 2s 373ms/step - loss: 0.6997 - accuracy: 0.7000 - val_loss: 1.0387 - val_accuracy: 0.6500\n",
            "Epoch 22/200\n",
            "6/6 [==============================] - 2s 370ms/step - loss: 0.8386 - accuracy: 0.6500 - val_loss: 0.8748 - val_accuracy: 0.6000\n",
            "Epoch 23/200\n",
            "6/6 [==============================] - 2s 376ms/step - loss: 0.7380 - accuracy: 0.7167 - val_loss: 0.7412 - val_accuracy: 0.6500\n",
            "Epoch 24/200\n",
            "6/6 [==============================] - 2s 379ms/step - loss: 0.5947 - accuracy: 0.7667 - val_loss: 1.0440 - val_accuracy: 0.5000\n",
            "Epoch 25/200\n",
            "6/6 [==============================] - 2s 377ms/step - loss: 0.7457 - accuracy: 0.7167 - val_loss: 0.7039 - val_accuracy: 0.7000\n",
            "Epoch 26/200\n",
            "6/6 [==============================] - 2s 387ms/step - loss: 0.7763 - accuracy: 0.6833 - val_loss: 0.6428 - val_accuracy: 0.8000\n",
            "Epoch 27/200\n",
            "6/6 [==============================] - 2s 386ms/step - loss: 0.8166 - accuracy: 0.6667 - val_loss: 0.8167 - val_accuracy: 0.7000\n",
            "Epoch 28/200\n",
            "6/6 [==============================] - 2s 368ms/step - loss: 0.6756 - accuracy: 0.7833 - val_loss: 0.6803 - val_accuracy: 0.7500\n",
            "Epoch 29/200\n",
            "6/6 [==============================] - 2s 379ms/step - loss: 0.7600 - accuracy: 0.7667 - val_loss: 0.8504 - val_accuracy: 0.7000\n",
            "Epoch 30/200\n",
            "6/6 [==============================] - 2s 383ms/step - loss: 0.9159 - accuracy: 0.6167 - val_loss: 0.7526 - val_accuracy: 0.6000\n",
            "Epoch 31/200\n",
            "6/6 [==============================] - 2s 376ms/step - loss: 0.6200 - accuracy: 0.7500 - val_loss: 0.4883 - val_accuracy: 0.8000\n",
            "Epoch 32/200\n",
            "6/6 [==============================] - 2s 370ms/step - loss: 0.7174 - accuracy: 0.7167 - val_loss: 1.1228 - val_accuracy: 0.5500\n",
            "Epoch 33/200\n",
            "6/6 [==============================] - 2s 385ms/step - loss: 0.8340 - accuracy: 0.6667 - val_loss: 0.8822 - val_accuracy: 0.5500\n",
            "Epoch 34/200\n",
            "6/6 [==============================] - 2s 375ms/step - loss: 0.8037 - accuracy: 0.6167 - val_loss: 0.5879 - val_accuracy: 0.7000\n",
            "Epoch 35/200\n",
            "6/6 [==============================] - 2s 371ms/step - loss: 0.6874 - accuracy: 0.7000 - val_loss: 1.0463 - val_accuracy: 0.6500\n",
            "Epoch 36/200\n",
            "6/6 [==============================] - 2s 367ms/step - loss: 0.7991 - accuracy: 0.6333 - val_loss: 0.6367 - val_accuracy: 0.6500\n",
            "Epoch 37/200\n",
            "6/6 [==============================] - 2s 381ms/step - loss: 0.9712 - accuracy: 0.6000 - val_loss: 0.6202 - val_accuracy: 0.8500\n",
            "Epoch 38/200\n",
            "6/6 [==============================] - 2s 382ms/step - loss: 0.6446 - accuracy: 0.7167 - val_loss: 0.9848 - val_accuracy: 0.5500\n",
            "Epoch 39/200\n",
            "6/6 [==============================] - 2s 378ms/step - loss: 0.6627 - accuracy: 0.6500 - val_loss: 1.2241 - val_accuracy: 0.5500\n",
            "Epoch 40/200\n",
            "6/6 [==============================] - 2s 374ms/step - loss: 0.6862 - accuracy: 0.6167 - val_loss: 0.8856 - val_accuracy: 0.6000\n",
            "Epoch 41/200\n",
            "6/6 [==============================] - 2s 365ms/step - loss: 0.6263 - accuracy: 0.7000 - val_loss: 0.7053 - val_accuracy: 0.7500\n",
            "Epoch 42/200\n",
            "6/6 [==============================] - 2s 387ms/step - loss: 0.7360 - accuracy: 0.6667 - val_loss: 0.7311 - val_accuracy: 0.6000\n",
            "Epoch 43/200\n",
            "6/6 [==============================] - 2s 374ms/step - loss: 0.8616 - accuracy: 0.6500 - val_loss: 0.3606 - val_accuracy: 0.8500\n",
            "Epoch 44/200\n",
            "6/6 [==============================] - 2s 388ms/step - loss: 0.8368 - accuracy: 0.6667 - val_loss: 0.8751 - val_accuracy: 0.7000\n",
            "Epoch 45/200\n",
            "6/6 [==============================] - 2s 389ms/step - loss: 0.6673 - accuracy: 0.7667 - val_loss: 0.9061 - val_accuracy: 0.5500\n",
            "Epoch 46/200\n",
            "6/6 [==============================] - 2s 357ms/step - loss: 0.6860 - accuracy: 0.7000 - val_loss: 0.7820 - val_accuracy: 0.7500\n",
            "Epoch 47/200\n",
            "6/6 [==============================] - 2s 370ms/step - loss: 0.7752 - accuracy: 0.6167 - val_loss: 1.5865 - val_accuracy: 0.4000\n",
            "Epoch 48/200\n",
            "6/6 [==============================] - 2s 388ms/step - loss: 0.9564 - accuracy: 0.6333 - val_loss: 1.2370 - val_accuracy: 0.5500\n",
            "Epoch 49/200\n",
            "6/6 [==============================] - 2s 366ms/step - loss: 0.6565 - accuracy: 0.7000 - val_loss: 1.4954 - val_accuracy: 0.5000\n",
            "Epoch 50/200\n",
            "6/6 [==============================] - 2s 370ms/step - loss: 0.8383 - accuracy: 0.6333 - val_loss: 0.5900 - val_accuracy: 0.7000\n",
            "Epoch 51/200\n",
            "6/6 [==============================] - 2s 368ms/step - loss: 0.6612 - accuracy: 0.7333 - val_loss: 0.6550 - val_accuracy: 0.6500\n",
            "Epoch 52/200\n",
            "6/6 [==============================] - 2s 373ms/step - loss: 0.7969 - accuracy: 0.6833 - val_loss: 0.4914 - val_accuracy: 0.7500\n",
            "Epoch 53/200\n",
            "6/6 [==============================] - 2s 380ms/step - loss: 0.8624 - accuracy: 0.7000 - val_loss: 0.7815 - val_accuracy: 0.6500\n",
            "Epoch 54/200\n",
            "6/6 [==============================] - 2s 375ms/step - loss: 0.8025 - accuracy: 0.6000 - val_loss: 1.0087 - val_accuracy: 0.4500\n",
            "Epoch 55/200\n",
            "6/6 [==============================] - 2s 378ms/step - loss: 0.6798 - accuracy: 0.7833 - val_loss: 0.5829 - val_accuracy: 0.7000\n",
            "Epoch 56/200\n",
            "6/6 [==============================] - 2s 368ms/step - loss: 0.7196 - accuracy: 0.6724 - val_loss: 0.8694 - val_accuracy: 0.6500\n",
            "Epoch 57/200\n",
            "6/6 [==============================] - 2s 375ms/step - loss: 0.8591 - accuracy: 0.6833 - val_loss: 0.9254 - val_accuracy: 0.6500\n",
            "Epoch 58/200\n",
            "6/6 [==============================] - 2s 372ms/step - loss: 1.1252 - accuracy: 0.5833 - val_loss: 1.0382 - val_accuracy: 0.5000\n",
            "Epoch 59/200\n",
            "6/6 [==============================] - 2s 370ms/step - loss: 0.8545 - accuracy: 0.5500 - val_loss: 0.9963 - val_accuracy: 0.6000\n",
            "Epoch 60/200\n",
            "6/6 [==============================] - 2s 373ms/step - loss: 0.9004 - accuracy: 0.5833 - val_loss: 0.9198 - val_accuracy: 0.5000\n",
            "Epoch 61/200\n",
            "6/6 [==============================] - 2s 384ms/step - loss: 0.7807 - accuracy: 0.7000 - val_loss: 0.8262 - val_accuracy: 0.6000\n",
            "Epoch 62/200\n",
            "6/6 [==============================] - 2s 385ms/step - loss: 0.9357 - accuracy: 0.6000 - val_loss: 0.9561 - val_accuracy: 0.4500\n",
            "Epoch 63/200\n",
            "6/6 [==============================] - 2s 378ms/step - loss: 0.9386 - accuracy: 0.6167 - val_loss: 0.8050 - val_accuracy: 0.7500\n",
            "Epoch 64/200\n",
            "6/6 [==============================] - 2s 369ms/step - loss: 0.7193 - accuracy: 0.7500 - val_loss: 0.8732 - val_accuracy: 0.6500\n",
            "Epoch 65/200\n",
            "6/6 [==============================] - 2s 379ms/step - loss: 0.5752 - accuracy: 0.8333 - val_loss: 1.1277 - val_accuracy: 0.6000\n",
            "Epoch 66/200\n",
            "6/6 [==============================] - 2s 376ms/step - loss: 0.9062 - accuracy: 0.6167 - val_loss: 0.6312 - val_accuracy: 0.6000\n",
            "Epoch 67/200\n",
            "6/6 [==============================] - 2s 381ms/step - loss: 0.7415 - accuracy: 0.6833 - val_loss: 0.8260 - val_accuracy: 0.6500\n",
            "Epoch 68/200\n",
            "6/6 [==============================] - 2s 372ms/step - loss: 0.8999 - accuracy: 0.6333 - val_loss: 1.2153 - val_accuracy: 0.5500\n",
            "Epoch 69/200\n",
            "6/6 [==============================] - 2s 388ms/step - loss: 0.5974 - accuracy: 0.8000 - val_loss: 1.3511 - val_accuracy: 0.5500\n",
            "Epoch 70/200\n",
            "6/6 [==============================] - 2s 375ms/step - loss: 0.6434 - accuracy: 0.7500 - val_loss: 0.6851 - val_accuracy: 0.7000\n",
            "Epoch 71/200\n",
            "6/6 [==============================] - 2s 369ms/step - loss: 0.6263 - accuracy: 0.7167 - val_loss: 0.9832 - val_accuracy: 0.6000\n",
            "Epoch 72/200\n",
            "6/6 [==============================] - 2s 379ms/step - loss: 0.6829 - accuracy: 0.7000 - val_loss: 0.6552 - val_accuracy: 0.7500\n",
            "Epoch 73/200\n",
            "6/6 [==============================] - 2s 375ms/step - loss: 0.5729 - accuracy: 0.8333 - val_loss: 0.7516 - val_accuracy: 0.7000\n",
            "Epoch 74/200\n",
            "6/6 [==============================] - 2s 381ms/step - loss: 0.7365 - accuracy: 0.7167 - val_loss: 0.7618 - val_accuracy: 0.8500\n",
            "Epoch 75/200\n",
            "6/6 [==============================] - 2s 385ms/step - loss: 0.7581 - accuracy: 0.6833 - val_loss: 1.0974 - val_accuracy: 0.6000\n",
            "Epoch 76/200\n",
            "6/6 [==============================] - 2s 373ms/step - loss: 0.8128 - accuracy: 0.5500 - val_loss: 1.0451 - val_accuracy: 0.5000\n",
            "Epoch 77/200\n",
            "6/6 [==============================] - 2s 378ms/step - loss: 0.6379 - accuracy: 0.7333 - val_loss: 0.8941 - val_accuracy: 0.7000\n",
            "Epoch 78/200\n",
            "6/6 [==============================] - 2s 390ms/step - loss: 0.7209 - accuracy: 0.6833 - val_loss: 1.0434 - val_accuracy: 0.7000\n",
            "Epoch 79/200\n",
            "6/6 [==============================] - 2s 369ms/step - loss: 0.7862 - accuracy: 0.6833 - val_loss: 0.6996 - val_accuracy: 0.8000\n",
            "Epoch 80/200\n",
            "6/6 [==============================] - 2s 383ms/step - loss: 0.8515 - accuracy: 0.6167 - val_loss: 0.7058 - val_accuracy: 0.8000\n",
            "Epoch 81/200\n",
            "6/6 [==============================] - 2s 381ms/step - loss: 0.9127 - accuracy: 0.6333 - val_loss: 1.2302 - val_accuracy: 0.4000\n",
            "Epoch 82/200\n",
            "6/6 [==============================] - 2s 366ms/step - loss: 0.8123 - accuracy: 0.6897 - val_loss: 0.5005 - val_accuracy: 0.8500\n",
            "Epoch 83/200\n",
            "6/6 [==============================] - 2s 375ms/step - loss: 0.7431 - accuracy: 0.7833 - val_loss: 1.6635 - val_accuracy: 0.5500\n",
            "Epoch 84/200\n",
            "6/6 [==============================] - 2s 381ms/step - loss: 0.8401 - accuracy: 0.7167 - val_loss: 1.3442 - val_accuracy: 0.4000\n",
            "Epoch 85/200\n",
            "6/6 [==============================] - 2s 372ms/step - loss: 0.7696 - accuracy: 0.6667 - val_loss: 0.6268 - val_accuracy: 0.8000\n",
            "Epoch 86/200\n",
            "6/6 [==============================] - 2s 378ms/step - loss: 0.7401 - accuracy: 0.6833 - val_loss: 0.8809 - val_accuracy: 0.6500\n",
            "Epoch 87/200\n",
            "6/6 [==============================] - 2s 388ms/step - loss: 0.6929 - accuracy: 0.7000 - val_loss: 0.9255 - val_accuracy: 0.6000\n",
            "Epoch 88/200\n",
            "6/6 [==============================] - 2s 377ms/step - loss: 0.5383 - accuracy: 0.8000 - val_loss: 0.7060 - val_accuracy: 0.7000\n",
            "Epoch 89/200\n",
            "6/6 [==============================] - 2s 374ms/step - loss: 0.6234 - accuracy: 0.7167 - val_loss: 0.3575 - val_accuracy: 0.8500\n",
            "Epoch 90/200\n",
            "6/6 [==============================] - 2s 387ms/step - loss: 0.6634 - accuracy: 0.7667 - val_loss: 0.9460 - val_accuracy: 0.7000\n",
            "Epoch 91/200\n",
            "6/6 [==============================] - 2s 377ms/step - loss: 0.5294 - accuracy: 0.7667 - val_loss: 0.6868 - val_accuracy: 0.7000\n",
            "Epoch 92/200\n",
            "6/6 [==============================] - 2s 365ms/step - loss: 0.6483 - accuracy: 0.7167 - val_loss: 1.1519 - val_accuracy: 0.6500\n",
            "Epoch 93/200\n",
            "6/6 [==============================] - 2s 379ms/step - loss: 0.6873 - accuracy: 0.7000 - val_loss: 1.3113 - val_accuracy: 0.5500\n",
            "Epoch 94/200\n",
            "6/6 [==============================] - 2s 387ms/step - loss: 0.7717 - accuracy: 0.6167 - val_loss: 0.6326 - val_accuracy: 0.7500\n",
            "Epoch 95/200\n",
            "6/6 [==============================] - 2s 374ms/step - loss: 0.6517 - accuracy: 0.6333 - val_loss: 0.8858 - val_accuracy: 0.6500\n",
            "Epoch 96/200\n",
            "6/6 [==============================] - 2s 372ms/step - loss: 0.7197 - accuracy: 0.7167 - val_loss: 0.8050 - val_accuracy: 0.6500\n",
            "Epoch 97/200\n",
            "6/6 [==============================] - 2s 373ms/step - loss: 0.7088 - accuracy: 0.7241 - val_loss: 0.9068 - val_accuracy: 0.6000\n",
            "Epoch 98/200\n",
            "6/6 [==============================] - 2s 380ms/step - loss: 0.8022 - accuracy: 0.6833 - val_loss: 0.7691 - val_accuracy: 0.5500\n",
            "Epoch 99/200\n",
            "6/6 [==============================] - 2s 381ms/step - loss: 0.6386 - accuracy: 0.6833 - val_loss: 0.9800 - val_accuracy: 0.7000\n",
            "Epoch 100/200\n",
            "6/6 [==============================] - 2s 371ms/step - loss: 0.6589 - accuracy: 0.7167 - val_loss: 0.9768 - val_accuracy: 0.6000\n",
            "Epoch 101/200\n",
            "6/6 [==============================] - 2s 386ms/step - loss: 0.8111 - accuracy: 0.7167 - val_loss: 1.7793 - val_accuracy: 0.5500\n",
            "Epoch 102/200\n",
            "6/6 [==============================] - 2s 388ms/step - loss: 0.5809 - accuracy: 0.7500 - val_loss: 1.0071 - val_accuracy: 0.5000\n",
            "Epoch 103/200\n",
            "6/6 [==============================] - 2s 383ms/step - loss: 0.7006 - accuracy: 0.6833 - val_loss: 0.6090 - val_accuracy: 0.8500\n",
            "Epoch 104/200\n",
            "6/6 [==============================] - 2s 366ms/step - loss: 0.6501 - accuracy: 0.7241 - val_loss: 0.4420 - val_accuracy: 0.9000\n",
            "Epoch 105/200\n",
            "6/6 [==============================] - 2s 394ms/step - loss: 0.7129 - accuracy: 0.6833 - val_loss: 1.1172 - val_accuracy: 0.5500\n",
            "Epoch 106/200\n",
            "6/6 [==============================] - 2s 403ms/step - loss: 0.6735 - accuracy: 0.7833 - val_loss: 1.1804 - val_accuracy: 0.4500\n",
            "Epoch 107/200\n",
            "6/6 [==============================] - 2s 396ms/step - loss: 0.7817 - accuracy: 0.6167 - val_loss: 0.6704 - val_accuracy: 0.7000\n",
            "Epoch 108/200\n",
            "6/6 [==============================] - 2s 380ms/step - loss: 0.7439 - accuracy: 0.5667 - val_loss: 1.3777 - val_accuracy: 0.6000\n",
            "Epoch 109/200\n",
            "6/6 [==============================] - 2s 390ms/step - loss: 0.9758 - accuracy: 0.5862 - val_loss: 1.4456 - val_accuracy: 0.6000\n",
            "Epoch 110/200\n",
            "6/6 [==============================] - 2s 380ms/step - loss: 0.7822 - accuracy: 0.7167 - val_loss: 1.0224 - val_accuracy: 0.6500\n",
            "Epoch 111/200\n",
            "6/6 [==============================] - 2s 363ms/step - loss: 0.6646 - accuracy: 0.7586 - val_loss: 1.6261 - val_accuracy: 0.5000\n",
            "Epoch 112/200\n",
            "6/6 [==============================] - 2s 375ms/step - loss: 0.8441 - accuracy: 0.6833 - val_loss: 0.7240 - val_accuracy: 0.7000\n",
            "Epoch 113/200\n",
            "6/6 [==============================] - 2s 370ms/step - loss: 0.7113 - accuracy: 0.6667 - val_loss: 0.9733 - val_accuracy: 0.5000\n",
            "Epoch 114/200\n",
            "6/6 [==============================] - 2s 367ms/step - loss: 0.7733 - accuracy: 0.7000 - val_loss: 0.6885 - val_accuracy: 0.8000\n",
            "Epoch 115/200\n",
            "6/6 [==============================] - 2s 382ms/step - loss: 0.7726 - accuracy: 0.6167 - val_loss: 1.3042 - val_accuracy: 0.7000\n",
            "Epoch 116/200\n",
            "6/6 [==============================] - 2s 382ms/step - loss: 0.8157 - accuracy: 0.6667 - val_loss: 1.9296 - val_accuracy: 0.4500\n",
            "Epoch 117/200\n",
            "6/6 [==============================] - 2s 376ms/step - loss: 0.6643 - accuracy: 0.7667 - val_loss: 0.8417 - val_accuracy: 0.6500\n",
            "Epoch 118/200\n",
            "6/6 [==============================] - 2s 377ms/step - loss: 0.8193 - accuracy: 0.6333 - val_loss: 0.7665 - val_accuracy: 0.7000\n",
            "Epoch 119/200\n",
            "6/6 [==============================] - 2s 377ms/step - loss: 0.7658 - accuracy: 0.6500 - val_loss: 1.0806 - val_accuracy: 0.6500\n",
            "Epoch 120/200\n",
            "6/6 [==============================] - 2s 381ms/step - loss: 0.7873 - accuracy: 0.6167 - val_loss: 1.5016 - val_accuracy: 0.5500\n",
            "Epoch 121/200\n",
            "6/6 [==============================] - 2s 394ms/step - loss: 0.9045 - accuracy: 0.6833 - val_loss: 1.1816 - val_accuracy: 0.5500\n",
            "Epoch 122/200\n",
            "6/6 [==============================] - 2s 386ms/step - loss: 0.6032 - accuracy: 0.7333 - val_loss: 0.9122 - val_accuracy: 0.6000\n",
            "Epoch 123/200\n",
            "6/6 [==============================] - 2s 385ms/step - loss: 0.7950 - accuracy: 0.7500 - val_loss: 0.9952 - val_accuracy: 0.6000\n",
            "Epoch 124/200\n",
            "6/6 [==============================] - 2s 385ms/step - loss: 0.6950 - accuracy: 0.7000 - val_loss: 0.6955 - val_accuracy: 0.8000\n",
            "Epoch 125/200\n",
            "6/6 [==============================] - 2s 387ms/step - loss: 0.8270 - accuracy: 0.6667 - val_loss: 1.5436 - val_accuracy: 0.5500\n",
            "Epoch 126/200\n",
            "6/6 [==============================] - 2s 378ms/step - loss: 0.9113 - accuracy: 0.6833 - val_loss: 1.0491 - val_accuracy: 0.7000\n",
            "Epoch 127/200\n",
            "6/6 [==============================] - 2s 362ms/step - loss: 0.7930 - accuracy: 0.6333 - val_loss: 0.8304 - val_accuracy: 0.7500\n",
            "Epoch 128/200\n",
            "6/6 [==============================] - 2s 385ms/step - loss: 0.5500 - accuracy: 0.8167 - val_loss: 0.6078 - val_accuracy: 0.8000\n",
            "Epoch 129/200\n",
            "6/6 [==============================] - 2s 369ms/step - loss: 0.7689 - accuracy: 0.7333 - val_loss: 0.6144 - val_accuracy: 0.6500\n",
            "Epoch 130/200\n",
            "6/6 [==============================] - 2s 370ms/step - loss: 0.5041 - accuracy: 0.7333 - val_loss: 1.1032 - val_accuracy: 0.5500\n",
            "Epoch 131/200\n",
            "6/6 [==============================] - 2s 379ms/step - loss: 0.9439 - accuracy: 0.6833 - val_loss: 0.8762 - val_accuracy: 0.6500\n",
            "Epoch 132/200\n",
            "6/6 [==============================] - 2s 381ms/step - loss: 0.6859 - accuracy: 0.7333 - val_loss: 0.7985 - val_accuracy: 0.6000\n",
            "Epoch 133/200\n",
            "6/6 [==============================] - 2s 379ms/step - loss: 0.4828 - accuracy: 0.8000 - val_loss: 1.0666 - val_accuracy: 0.6500\n",
            "Epoch 134/200\n",
            "6/6 [==============================] - 2s 395ms/step - loss: 0.9141 - accuracy: 0.6333 - val_loss: 0.7701 - val_accuracy: 0.6500\n",
            "Epoch 135/200\n",
            "6/6 [==============================] - 2s 388ms/step - loss: 0.5738 - accuracy: 0.7500 - val_loss: 0.7769 - val_accuracy: 0.6500\n",
            "Epoch 136/200\n",
            "6/6 [==============================] - 2s 391ms/step - loss: 0.9487 - accuracy: 0.6500 - val_loss: 1.3648 - val_accuracy: 0.6500\n",
            "Epoch 137/200\n",
            "6/6 [==============================] - 2s 379ms/step - loss: 0.8374 - accuracy: 0.6667 - val_loss: 0.7609 - val_accuracy: 0.7500\n",
            "Epoch 138/200\n",
            "6/6 [==============================] - 2s 381ms/step - loss: 0.8668 - accuracy: 0.6167 - val_loss: 0.9125 - val_accuracy: 0.6500\n",
            "Epoch 139/200\n",
            "6/6 [==============================] - 2s 385ms/step - loss: 0.9157 - accuracy: 0.6000 - val_loss: 0.9116 - val_accuracy: 0.6000\n",
            "Epoch 140/200\n",
            "6/6 [==============================] - 2s 385ms/step - loss: 0.8057 - accuracy: 0.5500 - val_loss: 0.9452 - val_accuracy: 0.5500\n",
            "Epoch 141/200\n",
            "6/6 [==============================] - 2s 382ms/step - loss: 0.8687 - accuracy: 0.6333 - val_loss: 0.5740 - val_accuracy: 0.7500\n",
            "Epoch 142/200\n",
            "6/6 [==============================] - 2s 380ms/step - loss: 0.5742 - accuracy: 0.7500 - val_loss: 1.6329 - val_accuracy: 0.4000\n",
            "Epoch 143/200\n",
            "6/6 [==============================] - 2s 386ms/step - loss: 0.6572 - accuracy: 0.7500 - val_loss: 0.6774 - val_accuracy: 0.7500\n",
            "Epoch 144/200\n",
            "6/6 [==============================] - 2s 366ms/step - loss: 0.6495 - accuracy: 0.7000 - val_loss: 1.0069 - val_accuracy: 0.6000\n",
            "Epoch 145/200\n",
            "6/6 [==============================] - 2s 379ms/step - loss: 0.6642 - accuracy: 0.7500 - val_loss: 0.8837 - val_accuracy: 0.6000\n",
            "Epoch 146/200\n",
            "6/6 [==============================] - 2s 389ms/step - loss: 0.6732 - accuracy: 0.7167 - val_loss: 1.3106 - val_accuracy: 0.5000\n",
            "Epoch 147/200\n",
            "6/6 [==============================] - 2s 378ms/step - loss: 0.7542 - accuracy: 0.7333 - val_loss: 0.6468 - val_accuracy: 0.7000\n",
            "Epoch 148/200\n",
            "6/6 [==============================] - 2s 360ms/step - loss: 0.8579 - accuracy: 0.6667 - val_loss: 0.3333 - val_accuracy: 0.8000\n",
            "Epoch 149/200\n",
            "6/6 [==============================] - 2s 381ms/step - loss: 0.5268 - accuracy: 0.7333 - val_loss: 1.3578 - val_accuracy: 0.7000\n",
            "Epoch 150/200\n",
            "6/6 [==============================] - 2s 378ms/step - loss: 0.6669 - accuracy: 0.6833 - val_loss: 0.9102 - val_accuracy: 0.6500\n",
            "Epoch 151/200\n",
            "6/6 [==============================] - 2s 373ms/step - loss: 0.9120 - accuracy: 0.7667 - val_loss: 0.7985 - val_accuracy: 0.6000\n",
            "Epoch 152/200\n",
            "6/6 [==============================] - 2s 380ms/step - loss: 0.8401 - accuracy: 0.6333 - val_loss: 1.1139 - val_accuracy: 0.4500\n",
            "Epoch 153/200\n",
            "6/6 [==============================] - 2s 375ms/step - loss: 0.8595 - accuracy: 0.7333 - val_loss: 1.1267 - val_accuracy: 0.7000\n",
            "Epoch 154/200\n",
            "6/6 [==============================] - 2s 380ms/step - loss: 0.8090 - accuracy: 0.6833 - val_loss: 1.9599 - val_accuracy: 0.5000\n",
            "Epoch 155/200\n",
            "6/6 [==============================] - 2s 371ms/step - loss: 0.6920 - accuracy: 0.7333 - val_loss: 1.2584 - val_accuracy: 0.8000\n",
            "Epoch 156/200\n",
            "6/6 [==============================] - 2s 387ms/step - loss: 0.7662 - accuracy: 0.6500 - val_loss: 0.6250 - val_accuracy: 0.7000\n",
            "Epoch 157/200\n",
            "6/6 [==============================] - 2s 376ms/step - loss: 0.9405 - accuracy: 0.6167 - val_loss: 0.7175 - val_accuracy: 0.7000\n",
            "Epoch 158/200\n",
            "6/6 [==============================] - 2s 380ms/step - loss: 0.8334 - accuracy: 0.6833 - val_loss: 0.8576 - val_accuracy: 0.6500\n",
            "Epoch 159/200\n",
            "6/6 [==============================] - 2s 357ms/step - loss: 0.6672 - accuracy: 0.7759 - val_loss: 1.3831 - val_accuracy: 0.7500\n",
            "Epoch 160/200\n",
            "6/6 [==============================] - 2s 382ms/step - loss: 0.5965 - accuracy: 0.7333 - val_loss: 0.9908 - val_accuracy: 0.7000\n",
            "Epoch 161/200\n",
            "6/6 [==============================] - 2s 382ms/step - loss: 0.7604 - accuracy: 0.7000 - val_loss: 0.6756 - val_accuracy: 0.7000\n",
            "Epoch 162/200\n",
            "6/6 [==============================] - 2s 384ms/step - loss: 0.7625 - accuracy: 0.6897 - val_loss: 0.6983 - val_accuracy: 0.7500\n",
            "Epoch 163/200\n",
            "6/6 [==============================] - 2s 368ms/step - loss: 0.6680 - accuracy: 0.6833 - val_loss: 0.8024 - val_accuracy: 0.6500\n",
            "Epoch 164/200\n",
            "6/6 [==============================] - 2s 382ms/step - loss: 0.8347 - accuracy: 0.6833 - val_loss: 1.0347 - val_accuracy: 0.7000\n",
            "Epoch 165/200\n",
            "6/6 [==============================] - 2s 383ms/step - loss: 0.8302 - accuracy: 0.6500 - val_loss: 0.9958 - val_accuracy: 0.6000\n",
            "Epoch 166/200\n",
            "6/6 [==============================] - 2s 381ms/step - loss: 1.0074 - accuracy: 0.6167 - val_loss: 1.2445 - val_accuracy: 0.5500\n",
            "Epoch 167/200\n",
            "6/6 [==============================] - 2s 380ms/step - loss: 0.7102 - accuracy: 0.6667 - val_loss: 0.7182 - val_accuracy: 0.6500\n",
            "Epoch 168/200\n",
            "6/6 [==============================] - 2s 379ms/step - loss: 0.9448 - accuracy: 0.5833 - val_loss: 1.1198 - val_accuracy: 0.6500\n",
            "Epoch 169/200\n",
            "6/6 [==============================] - 2s 388ms/step - loss: 0.6255 - accuracy: 0.7167 - val_loss: 1.3904 - val_accuracy: 0.5000\n",
            "Epoch 170/200\n",
            "6/6 [==============================] - 2s 384ms/step - loss: 0.5861 - accuracy: 0.7500 - val_loss: 0.9344 - val_accuracy: 0.6000\n",
            "Epoch 171/200\n",
            "6/6 [==============================] - 2s 397ms/step - loss: 0.9583 - accuracy: 0.6000 - val_loss: 1.3358 - val_accuracy: 0.5500\n",
            "Epoch 172/200\n",
            "6/6 [==============================] - 2s 389ms/step - loss: 0.7332 - accuracy: 0.6500 - val_loss: 0.7687 - val_accuracy: 0.8500\n",
            "Epoch 173/200\n",
            "6/6 [==============================] - 2s 378ms/step - loss: 0.4509 - accuracy: 0.8333 - val_loss: 1.1428 - val_accuracy: 0.5500\n",
            "Epoch 174/200\n",
            "6/6 [==============================] - 2s 382ms/step - loss: 0.7592 - accuracy: 0.6167 - val_loss: 1.0790 - val_accuracy: 0.5500\n",
            "Epoch 175/200\n",
            "6/6 [==============================] - 2s 385ms/step - loss: 0.6935 - accuracy: 0.6833 - val_loss: 1.4983 - val_accuracy: 0.4500\n",
            "Epoch 176/200\n",
            "6/6 [==============================] - 2s 388ms/step - loss: 0.6973 - accuracy: 0.7333 - val_loss: 0.8867 - val_accuracy: 0.6500\n",
            "Epoch 177/200\n",
            "6/6 [==============================] - 2s 376ms/step - loss: 0.6320 - accuracy: 0.7000 - val_loss: 0.5071 - val_accuracy: 0.7000\n",
            "Epoch 178/200\n",
            "6/6 [==============================] - 2s 381ms/step - loss: 0.6148 - accuracy: 0.6833 - val_loss: 0.7595 - val_accuracy: 0.7000\n",
            "Epoch 179/200\n",
            "6/6 [==============================] - 2s 394ms/step - loss: 0.6238 - accuracy: 0.7500 - val_loss: 0.8589 - val_accuracy: 0.7500\n",
            "Epoch 180/200\n",
            "6/6 [==============================] - 2s 396ms/step - loss: 0.5943 - accuracy: 0.8000 - val_loss: 0.9926 - val_accuracy: 0.6000\n",
            "Epoch 181/200\n",
            "6/6 [==============================] - 2s 381ms/step - loss: 0.7799 - accuracy: 0.6379 - val_loss: 1.1465 - val_accuracy: 0.6500\n",
            "Epoch 182/200\n",
            "6/6 [==============================] - 2s 391ms/step - loss: 0.6949 - accuracy: 0.6833 - val_loss: 1.7608 - val_accuracy: 0.5500\n",
            "Epoch 183/200\n",
            "6/6 [==============================] - 2s 391ms/step - loss: 0.7416 - accuracy: 0.7667 - val_loss: 1.0039 - val_accuracy: 0.7000\n",
            "Epoch 184/200\n",
            "6/6 [==============================] - 2s 372ms/step - loss: 0.6392 - accuracy: 0.7500 - val_loss: 0.7750 - val_accuracy: 0.7500\n",
            "Epoch 185/200\n",
            "6/6 [==============================] - 2s 386ms/step - loss: 0.9415 - accuracy: 0.6333 - val_loss: 0.9024 - val_accuracy: 0.6000\n",
            "Epoch 186/200\n",
            "6/6 [==============================] - 2s 376ms/step - loss: 0.6120 - accuracy: 0.7667 - val_loss: 0.6289 - val_accuracy: 0.7500\n",
            "Epoch 187/200\n",
            "6/6 [==============================] - 2s 392ms/step - loss: 0.6589 - accuracy: 0.7167 - val_loss: 1.3792 - val_accuracy: 0.5500\n",
            "Epoch 188/200\n",
            "6/6 [==============================] - 2s 375ms/step - loss: 0.6980 - accuracy: 0.7167 - val_loss: 0.6814 - val_accuracy: 0.6500\n",
            "Epoch 189/200\n",
            "6/6 [==============================] - 2s 389ms/step - loss: 0.7386 - accuracy: 0.6333 - val_loss: 1.1698 - val_accuracy: 0.5000\n",
            "Epoch 190/200\n",
            "6/6 [==============================] - 2s 383ms/step - loss: 0.8335 - accuracy: 0.5833 - val_loss: 0.9776 - val_accuracy: 0.5500\n",
            "Epoch 191/200\n",
            "6/6 [==============================] - 2s 379ms/step - loss: 0.8114 - accuracy: 0.6667 - val_loss: 0.8062 - val_accuracy: 0.6500\n",
            "Epoch 192/200\n",
            "6/6 [==============================] - 2s 398ms/step - loss: 0.6249 - accuracy: 0.7167 - val_loss: 0.8340 - val_accuracy: 0.6500\n",
            "Epoch 193/200\n",
            "6/6 [==============================] - 2s 399ms/step - loss: 0.5663 - accuracy: 0.7500 - val_loss: 0.6687 - val_accuracy: 0.7000\n",
            "Epoch 194/200\n",
            "6/6 [==============================] - 2s 398ms/step - loss: 0.8965 - accuracy: 0.5833 - val_loss: 1.3891 - val_accuracy: 0.6000\n",
            "Epoch 195/200\n",
            "6/6 [==============================] - 2s 399ms/step - loss: 0.8259 - accuracy: 0.6833 - val_loss: 0.6438 - val_accuracy: 0.7000\n",
            "Epoch 196/200\n",
            "6/6 [==============================] - 2s 392ms/step - loss: 0.5802 - accuracy: 0.7241 - val_loss: 1.1245 - val_accuracy: 0.6500\n",
            "Epoch 197/200\n",
            "6/6 [==============================] - 2s 395ms/step - loss: 0.6003 - accuracy: 0.7500 - val_loss: 0.9046 - val_accuracy: 0.5000\n",
            "Epoch 198/200\n",
            "6/6 [==============================] - 2s 387ms/step - loss: 0.6276 - accuracy: 0.7667 - val_loss: 1.5842 - val_accuracy: 0.6500\n",
            "Epoch 199/200\n",
            "6/6 [==============================] - 2s 385ms/step - loss: 0.8633 - accuracy: 0.6000 - val_loss: 0.9358 - val_accuracy: 0.5000\n",
            "Epoch 200/200\n",
            "6/6 [==============================] - 2s 393ms/step - loss: 0.6104 - accuracy: 0.7167 - val_loss: 0.4588 - val_accuracy: 0.8000\n"
          ],
          "name": "stdout"
        }
      ]
    },
    {
      "cell_type": "code",
      "metadata": {
        "colab": {
          "base_uri": "https://localhost:8080/",
          "height": 545
        },
        "id": "wBfJCZVukPV9",
        "outputId": "c2941405-158e-4391-926e-824ea77b51eb"
      },
      "source": [
        "acc = history.history['accuracy']\n",
        "val_acc = history.history['val_accuracy']\n",
        "\n",
        "loss = history.history['loss']\n",
        "val_loss = history.history['val_loss']\n",
        "\n",
        "epochs = range(len(acc))\n",
        "\n",
        "from matplotlib import pyplot as plt\n",
        "plt.plot(epochs, acc, 'r', label='Training acc')\n",
        "plt.plot(epochs, val_acc, 'b', label='Validation acc')\n",
        "plt.title('Training and validation accuracy')\n",
        "plt.legend()\n",
        "\n",
        "plt.figure()\n",
        "\n",
        "plt.plot(epochs, loss, 'r', label='Training loss')\n",
        "plt.plot(epochs, val_loss, 'b', label='Validation loss')\n",
        "plt.title('Training and validation loss')\n",
        "plt.legend()\n",
        "\n",
        "plt.show()"
      ],
      "execution_count": null,
      "outputs": [
        {
          "output_type": "display_data",
          "data": {
            "image/png": "[encoded data removed]",
            "text/plain": [
              "<Figure size 432x288 with 1 Axes>"
            ]
          },
          "metadata": {
            "tags": [],
            "needs_background": "light"
          }
        },
        {
          "output_type": "display_data",
          "data": {
            "image/png": "[encoded data removed]",
            "text/plain": [
              "<Figure size 432x288 with 1 Axes>"
            ]
          },
          "metadata": {
            "tags": [],
            "needs_background": "light"
          }
        }
      ]
    },
    {
      "cell_type": "markdown",
      "metadata": {
        "id": "Qz4WL3TKrSMF"
      },
      "source": [
        "Testing the model and reporting the results on training and test images."
      ]
    },
    {
      "cell_type": "code",
      "metadata": {
        "colab": {
          "base_uri": "https://localhost:8080/"
        },
        "id": "FrBIT_XUrUwc",
        "outputId": "a088e949-ec52-4706-a7e0-3335f96796d4"
      },
      "source": [
        "classifier.evaluate(test_generator)"
      ],
      "execution_count": null,
      "outputs": [
        {
          "output_type": "stream",
          "text": [
            "22/22 [==============================] - 4s 162ms/step - loss: 0.9251 - accuracy: 0.6558\n"
          ],
          "name": "stdout"
        },
        {
          "output_type": "execute_result",
          "data": {
            "text/plain": [
              "[0.9250572323799133, 0.6558139324188232]"
            ]
          },
          "metadata": {
            "tags": []
          },
          "execution_count": 42
        }
      ]
    },
    {
      "cell_type": "code",
      "metadata": {
        "colab": {
          "base_uri": "https://localhost:8080/"
        },
        "id": "avbdf25rritD",
        "outputId": "a716c900-2065-4a3a-ad5a-d419995e5c1b"
      },
      "source": [
        "#Confusion Matrix and Classification Report on Training Data\n",
        "per = np.random.permutation(train_generator.n)\n",
        "train_generator.index_array = per\n",
        "classes = train_generator.classes[per]\n",
        "Y_pred = classifier.predict(train_generator)\n",
        "predictions = predictedclass(Y_pred) # These are the prediction labels from the training set\n",
        "\n",
        "cmtrain = confusion_matrix(classes, predictions)\n",
        "print('Confusion Matrix')\n",
        "print(cmtrain)\n",
        "acctrain = accuracycalc(cmtrain)\n",
        "trainmatchrates = labelmatchrate(cmtrain, labeltext)\n",
        "print('Classification Report')\n",
        "target_names = ['1', '2', '3', '4', '5', '6', '7']\n",
        "print(classification_report(classes, predictions, target_names=target_names))"
      ],
      "execution_count": null,
      "outputs": [
        {
          "output_type": "stream",
          "text": [
            "Confusion Matrix\n",
            "[[  9   0   0   6   0   0   0]\n",
            " [  0  33   0  12   0   0   0]\n",
            " [  0   0   1   1   1   0   0]\n",
            " [  1   0   0 339   0  46   1]\n",
            " [  0   0   0   8   8   6   0]\n",
            " [  0   0   0  53   1  81   0]\n",
            " [  0   0   0  10   1  13   7]]\n",
            "accuracy is  74.92 %.\n",
            "match for label 1 ( mask incorrect ) is  60.00 %.\n",
            "match for label 2 ( no mask ) is  73.33 %.\n",
            "match for label 3 ( mask incorrect + no mask ) is  33.33 %.\n",
            "match for label 4 ( mask ) is  87.60 %.\n",
            "match for label 5 ( mask + mask incorrect ) is  36.36 %.\n",
            "match for label 6 ( mask + no mask ) is  60.00 %.\n",
            "match for label 7 ( mask + no mask + mask incorrect ) is  22.58 %.\n",
            "Classification Report\n",
            "              precision    recall  f1-score   support\n",
            "\n",
            "           1       0.90      0.60      0.72        15\n",
            "           2       1.00      0.73      0.85        45\n",
            "           3       1.00      0.33      0.50         3\n",
            "           4       0.79      0.88      0.83       387\n",
            "           5       0.73      0.36      0.48        22\n",
            "           6       0.55      0.60      0.58       135\n",
            "           7       0.88      0.23      0.36        31\n",
            "\n",
            "    accuracy                           0.75       638\n",
            "   macro avg       0.84      0.53      0.62       638\n",
            "weighted avg       0.76      0.75      0.74       638\n",
            "\n"
          ],
          "name": "stdout"
        }
      ]
    },
    {
      "cell_type": "code",
      "metadata": {
        "colab": {
          "base_uri": "https://localhost:8080/"
        },
        "id": "GJCEF5RaIp9H",
        "outputId": "d1aa0531-d0f7-44d3-c91c-64fcc8ec47f5"
      },
      "source": [
        "#Confusion Matrix and Classification Report on Test Data\n",
        "per = np.random.permutation(test_generator.n)\n",
        "test_generator.index_array = per\n",
        "classes = test_generator.classes[per]\n",
        "Y_predtest = classifier.predict(test_generator)\n",
        "predictionstest = predictedclass(Y_predtest) # These are the prediction labels from the test set\n",
        "\n",
        "cmtest = confusion_matrix(classes, predictionstest)\n",
        "print('Confusion Matrix')\n",
        "print(cmtest)\n",
        "acctest = accuracycalc(cmtest)\n",
        "testmatchrates = labelmatchrate(cmtest, labeltext)\n",
        "print('Classification Report')\n",
        "target_names = ['1', '2', '3', '4', '5', '6', '7']\n",
        "print(classification_report(classes, predictionstest, target_names=target_names))"
      ],
      "execution_count": null,
      "outputs": [
        {
          "output_type": "stream",
          "text": [
            "Confusion Matrix\n",
            "[[  3   0   0   3   0   0   0]\n",
            " [  0   9   0   6   0   0   0]\n",
            " [  0   0   0   1   0   0   0]\n",
            " [  0   0   0 113   0  15   1]\n",
            " [  0   0   0   5   1   2   0]\n",
            " [  0   0   0  30   0  14   1]\n",
            " [  0   0   0   6   0   4   1]]\n",
            "accuracy is  65.58 %.\n",
            "match for label 1 ( mask incorrect ) is  50.00 %.\n",
            "match for label 2 ( no mask ) is  60.00 %.\n",
            "match for label 3 ( mask incorrect + no mask ) is  0.00 %.\n",
            "match for label 4 ( mask ) is  87.60 %.\n",
            "match for label 5 ( mask + mask incorrect ) is  12.50 %.\n",
            "match for label 6 ( mask + no mask ) is  31.11 %.\n",
            "match for label 7 ( mask + no mask + mask incorrect ) is  9.09 %.\n",
            "Classification Report\n",
            "              precision    recall  f1-score   support\n",
            "\n",
            "           1       1.00      0.50      0.67         6\n",
            "           2       1.00      0.60      0.75        15\n",
            "           3       0.00      0.00      0.00         1\n",
            "           4       0.69      0.88      0.77       129\n",
            "           5       1.00      0.12      0.22         8\n",
            "           6       0.40      0.31      0.35        45\n",
            "           7       0.33      0.09      0.14        11\n",
            "\n",
            "    accuracy                           0.66       215\n",
            "   macro avg       0.63      0.36      0.41       215\n",
            "weighted avg       0.65      0.66      0.62       215\n",
            "\n"
          ],
          "name": "stdout"
        },
        {
          "output_type": "stream",
          "text": [
            "/usr/local/lib/python3.7/dist-packages/sklearn/metrics/_classification.py:1272: UndefinedMetricWarning: Precision and F-score are ill-defined and being set to 0.0 in labels with no predicted samples. Use `zero_division` parameter to control this behavior.\n",
            "  _warn_prf(average, modifier, msg_start, len(result))\n"
          ],
          "name": "stderr"
        }
      ]
    }
  ]
}